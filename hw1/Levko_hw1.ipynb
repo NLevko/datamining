{
 "cells": [
  {
   "cell_type": "markdown",
   "metadata": {},
   "source": [
    "**Общая информация**\n",
    "\n",
    "**Срок сдачи:** 18 октября 2017, 06:00 <br\\>\n",
    "**Штраф за опоздание:** -2 балла после 06:00 18 октября, -4 балла после 06:00 25 октября, -6 баллов после 06:00 1 ноября\n",
    "\n",
    "При отправлении ДЗ указывайте фамилию в названии файла\n",
    "Присылать ДЗ необходимо в виде ссылки на свой github репозиторий в slack @alkhamush\n",
    "\n",
    "Необходимо в slack создать таск в приватный чат:\n",
    "/todo Фамилия Имя ссылка на гитхаб @alkhamush\n",
    "Пример:\n",
    "/todo Ксения Стройкова https://github.com/stroykova/spheremailru/stroykova_hw1.ipynb @alkhamush\n",
    "Дополнительно нужно просто скинуть ссылку в slack в личный чат\n",
    "\n",
    "Используйте данный Ipython Notebook при оформлении домашнего задания."
   ]
  },
  {
   "cell_type": "markdown",
   "metadata": {},
   "source": [
    "###### Задание 1 (2 баллов)\n",
    "Реализовать KNN в классе MyKNeighborsClassifier (обязательное условие: точность не ниже sklearn реализации)\n",
    "Разберитесь самостоятельно, какая мера расстояния используется в KNeighborsClassifier дефолтно и реализуйте свой алгоритм именно с этой мерой. Самостоятельно разберитесь, как считается score из KNeighborsClassifier и реализуйте аналог в своём классе. Score не должен уступать значению KNN из sklearn\n",
    "\n",
    "###### Задание 2 (2 балла)\n",
    "Добиться скорости работы на fit,  predict и predict_proba сравнимой со sklearn для iris и mnist\n",
    "Для этого используем numpy\n",
    "\n",
    "###### Задание 3 (2 балла)\n",
    "Для iris найдите такой параметр n_neighbors, при котором выдаётся наилучший score. Нарисуйте график зависимости score от n_neighbors\n",
    "\n",
    "###### Задание 4 (3 балла)\n",
    "Добавить algorithm='kd_tree' в реализацию KNN (использовать KDTree из sklearn.neighbors). Значение n_neighbors нужно взять из задания 3. Добиться скорости работы на fit,  predict и predict_proba сравнимой со sklearn для iris и mnist\n",
    "Для этого используем numpy. Score не должен уступать значению KNN из sklearn\n",
    "\n",
    "###### Задание 5 (1 балла)\n",
    "Описать для чего нужны следующие библиотеки/классы/функции (список будет ниже)\n",
    "\n",
    "**Штрафные баллы:**\n",
    "\n",
    "1. Невыполнение PEP8 -1 балл\n",
    "2. Отсутствие фамилии в имени скрипта (скрипт должен называться по аналогии со stroykova_hw1.ipynb) -1 балл\n",
    "3. Все строчки должны быть выполнены. Нужно, чтобы output команды можно было увидеть уже в git'е. В противном случае -1 балл\n",
    "4. При оформлении ДЗ нужно пользоваться данным файлом в качестве шаблона. Не нужно удалять и видоизменять структуру кода и текст. В противном случае -1 балл\n"
   ]
  },
  {
   "cell_type": "code",
   "execution_count": 278,
   "metadata": {},
   "outputs": [],
   "source": [
    "import numpy as np\n",
    "import matplotlib.pyplot as plt\n",
    "\n",
    "import seaborn as sns\n",
    "from sklearn import datasets\n",
    "from sklearn.base import ClassifierMixin\n",
    "from sklearn.datasets import fetch_mldata\n",
    "from sklearn.neighbors.base import NeighborsBase, KNeighborsMixin, SupervisedIntegerMixin \n",
    "from sklearn.model_selection import train_test_split\n",
    "from sklearn.neighbors import KNeighborsClassifier\n",
    "from collections import Counter\n",
    "from sklearn.neighbors import KDTree\n",
    "#%load_ext pycodestyle_magic"
   ]
  },
  {
   "cell_type": "code",
   "execution_count": 325,
   "metadata": {},
   "outputs": [],
   "source": [
    "#%%pycodestyle\n",
    "\n",
    "class MyKNeighborsClassifier(NeighborsBase, KNeighborsMixin, SupervisedIntegerMixin, ClassifierMixin):\n",
    "    \n",
    "    def __init__(self, n_neighbors, algorithm='brute'):\n",
    "        self.n_neighbors = n_neighbors\n",
    "        self.algorithm = algorithm\n",
    "        \n",
    "    def fit(self, X, y):\n",
    "        self.training_data = X.astype(float)\n",
    "        self._y = y\n",
    "        self.classes_ = np.max(y) + 1\n",
    "        if self.algorithm == 'kd_tree':\n",
    "            self.KDTree = KDTree(self.training_data)\n",
    "            \n",
    "    def _predict(self, X):\n",
    "        X = X.astype(float)\n",
    "        if self.algorithm == \"brute\":\n",
    "            return self._predict_brute(X)\n",
    "        elif self.algorithm == \"kd_tree\":\n",
    "            return self._predict_kd_Tree(X)\n",
    "    \n",
    "    def _predict_brute(self, X):\n",
    "        X = X.astype(float) \n",
    "        size = X.shape[0]\n",
    "        X_train = np.sum(self.training_data ** 2, axis = 1).reshape(1,-1)\n",
    "        X_predict =  np.sum(X ** 2, axis = 1).reshape(-1, 1)\n",
    "        distances = np.sqrt(X_predict - 2 * np.matmul(X, self.training_data.T) +\n",
    "                       X_train)\n",
    "        answer = np.argpartition(distances, range(self.n_neighbors),\n",
    "                              axis=1)[:, :self.n_neighbors] \n",
    "        return self._y[answer]\n",
    "    \n",
    "    def _predict_kd_Tree(self, X):\n",
    "        X = X.astype(float) \n",
    "        answer = self.KDTree.query(np.array(X, float), k=self.n_neighbors)[1]\n",
    "        return self._y[answer[:, :self.n_neighbors]]\n",
    "    \n",
    "    def predict(self, X):\n",
    "        return np.argmax(self.predict_proba(X), axis=1)\n",
    "    \n",
    "    def predict_proba(self, X):\n",
    "        near = self._predict(X)\n",
    "        answer = np.zeros((X.shape[0], int(self.classes_)), float)\n",
    "        for i in range(X.shape[0]):\n",
    "            for arr in Counter(near[i]).most_common(int(self.classes_)):\n",
    "                answer[i][int(arr[0])] = arr[1]\n",
    "        return answer / self.n_neighbors\n",
    "    \n",
    "    def score(self, X, y):\n",
    "         return np.average(y == self.predict(X))"
   ]
  },
  {
   "cell_type": "markdown",
   "metadata": {},
   "source": [
    "**IRIS**"
   ]
  },
  {
   "cell_type": "code",
   "execution_count": 211,
   "metadata": {},
   "outputs": [],
   "source": [
    "iris = datasets.load_iris()"
   ]
  },
  {
   "cell_type": "code",
   "execution_count": 212,
   "metadata": {},
   "outputs": [],
   "source": [
    "X_train, X_test, y_train, y_test = train_test_split(iris.data, iris.target, test_size=0.1, stratify=iris.target)"
   ]
  },
  {
   "cell_type": "code",
   "execution_count": 213,
   "metadata": {},
   "outputs": [],
   "source": [
    "clf = KNeighborsClassifier(n_neighbors=2)\n",
    "my_clf = MyKNeighborsClassifier(n_neighbors=2)"
   ]
  },
  {
   "cell_type": "code",
   "execution_count": 214,
   "metadata": {},
   "outputs": [
    {
     "name": "stdout",
     "output_type": "stream",
     "text": [
      "Wall time: 998 µs\n"
     ]
    },
    {
     "data": {
      "text/plain": [
       "KNeighborsClassifier(algorithm='auto', leaf_size=30, metric='minkowski',\n",
       "           metric_params=None, n_jobs=1, n_neighbors=2, p=2,\n",
       "           weights='uniform')"
      ]
     },
     "execution_count": 214,
     "metadata": {},
     "output_type": "execute_result"
    }
   ],
   "source": [
    "%time clf.fit(X_train, y_train)"
   ]
  },
  {
   "cell_type": "code",
   "execution_count": 215,
   "metadata": {},
   "outputs": [
    {
     "name": "stdout",
     "output_type": "stream",
     "text": [
      "Wall time: 0 ns\n"
     ]
    }
   ],
   "source": [
    "%time my_clf.fit(X_train, y_train)"
   ]
  },
  {
   "cell_type": "code",
   "execution_count": 216,
   "metadata": {},
   "outputs": [
    {
     "name": "stdout",
     "output_type": "stream",
     "text": [
      "Wall time: 0 ns\n"
     ]
    },
    {
     "data": {
      "text/plain": [
       "array([1, 0, 1, 0, 1, 2, 0, 0, 1, 1, 0, 1, 1, 2, 2])"
      ]
     },
     "execution_count": 216,
     "metadata": {},
     "output_type": "execute_result"
    }
   ],
   "source": [
    "%time clf.predict(X_test)"
   ]
  },
  {
   "cell_type": "code",
   "execution_count": 217,
   "metadata": {},
   "outputs": [
    {
     "name": "stdout",
     "output_type": "stream",
     "text": [
      "Wall time: 998 µs\n"
     ]
    },
    {
     "data": {
      "text/plain": [
       "array([1, 0, 1, 0, 1, 2, 0, 0, 1, 1, 0, 1, 1, 2, 2], dtype=int64)"
      ]
     },
     "execution_count": 217,
     "metadata": {},
     "output_type": "execute_result"
    }
   ],
   "source": [
    "%time my_clf.predict(X_test)"
   ]
  },
  {
   "cell_type": "code",
   "execution_count": 218,
   "metadata": {},
   "outputs": [
    {
     "name": "stdout",
     "output_type": "stream",
     "text": [
      "Wall time: 0 ns\n"
     ]
    },
    {
     "data": {
      "text/plain": [
       "array([[0. , 0.5, 0.5],\n",
       "       [1. , 0. , 0. ],\n",
       "       [0. , 1. , 0. ],\n",
       "       [1. , 0. , 0. ],\n",
       "       [0. , 1. , 0. ],\n",
       "       [0. , 0. , 1. ],\n",
       "       [1. , 0. , 0. ],\n",
       "       [1. , 0. , 0. ],\n",
       "       [0. , 0.5, 0.5],\n",
       "       [0. , 1. , 0. ],\n",
       "       [1. , 0. , 0. ],\n",
       "       [0. , 1. , 0. ],\n",
       "       [0. , 1. , 0. ],\n",
       "       [0. , 0. , 1. ],\n",
       "       [0. , 0. , 1. ]])"
      ]
     },
     "execution_count": 218,
     "metadata": {},
     "output_type": "execute_result"
    }
   ],
   "source": [
    "%time clf.predict_proba(X_test)"
   ]
  },
  {
   "cell_type": "code",
   "execution_count": 219,
   "metadata": {},
   "outputs": [
    {
     "name": "stdout",
     "output_type": "stream",
     "text": [
      "Wall time: 998 µs\n"
     ]
    },
    {
     "data": {
      "text/plain": [
       "array([[0. , 0.5, 0.5],\n",
       "       [1. , 0. , 0. ],\n",
       "       [0. , 1. , 0. ],\n",
       "       [1. , 0. , 0. ],\n",
       "       [0. , 1. , 0. ],\n",
       "       [0. , 0. , 1. ],\n",
       "       [1. , 0. , 0. ],\n",
       "       [1. , 0. , 0. ],\n",
       "       [0. , 0.5, 0.5],\n",
       "       [0. , 1. , 0. ],\n",
       "       [1. , 0. , 0. ],\n",
       "       [0. , 1. , 0. ],\n",
       "       [0. , 1. , 0. ],\n",
       "       [0. , 0. , 1. ],\n",
       "       [0. , 0. , 1. ]])"
      ]
     },
     "execution_count": 219,
     "metadata": {},
     "output_type": "execute_result"
    }
   ],
   "source": [
    "%time my_clf.predict_proba(X_test)"
   ]
  },
  {
   "cell_type": "code",
   "execution_count": 220,
   "metadata": {},
   "outputs": [
    {
     "data": {
      "text/plain": [
       "0.8666666666666667"
      ]
     },
     "execution_count": 220,
     "metadata": {},
     "output_type": "execute_result"
    }
   ],
   "source": [
    "clf.score(X_test, y_test)"
   ]
  },
  {
   "cell_type": "code",
   "execution_count": 221,
   "metadata": {},
   "outputs": [
    {
     "data": {
      "text/plain": [
       "0.8666666666666667"
      ]
     },
     "execution_count": 221,
     "metadata": {},
     "output_type": "execute_result"
    }
   ],
   "source": [
    "my_clf.score(X_test, y_test)"
   ]
  },
  {
   "cell_type": "markdown",
   "metadata": {},
   "source": [
    "Задание 3"
   ]
  },
  {
   "cell_type": "code",
   "execution_count": 337,
   "metadata": {},
   "outputs": [
    {
     "data": {
      "image/png": "[encoded data removed]",
      "text/plain": [
       "<Figure size 432x288 with 1 Axes>"
      ]
     },
     "metadata": {},
     "output_type": "display_data"
    },
    {
     "name": "stdout",
     "output_type": "stream",
     "text": [
      "лучшие колличество соседий: 15\n"
     ]
    }
   ],
   "source": [
    "#%%pycodestyle\n",
    "result = []\n",
    "N_of_tests = 2000\n",
    "for i in range(1,30):\n",
    "    sub_result = []\n",
    "    for j in range(N_of_tests):\n",
    "        X_train, X_test, y_train, y_test = (\n",
    "            train_test_split(\n",
    "                iris.data, iris.target, test_size=0.15, stratify=iris.target\n",
    "            )\n",
    "        )\n",
    "        my_clf = MyKNeighborsClassifier(n_neighbors=i)\n",
    "        my_clf.fit(X_train, y_train)\n",
    "        sub_result.append(my_clf.score(X_test, y_test))\n",
    "    result.append(np.mean(sub_result))\n",
    "result = np.array(result)\n",
    "\n",
    "plt.plot(range(1,30), result)\n",
    "plt.title('best n for knn')\n",
    "plt.xlabel(\"n neighbors\")\n",
    "plt.ylabel(\"score over {} loops\")\n",
    "plt.show()\n",
    "\n",
    "print(\"лучшие колличество соседий:\" ,result.argmax()+1)"
   ]
  },
  {
   "cell_type": "markdown",
   "metadata": {},
   "source": [
    "**MNIST**"
   ]
  },
  {
   "cell_type": "code",
   "execution_count": 261,
   "metadata": {},
   "outputs": [],
   "source": [
    "mnist = fetch_mldata('MNIST original')"
   ]
  },
  {
   "cell_type": "code",
   "execution_count": 262,
   "metadata": {},
   "outputs": [],
   "source": [
    "X_train, X_test, y_train, y_test = train_test_split(mnist.data, mnist.target, test_size=0.01, stratify=mnist.target)"
   ]
  },
  {
   "cell_type": "code",
   "execution_count": 263,
   "metadata": {},
   "outputs": [],
   "source": [
    "clf = KNeighborsClassifier(n_neighbors=2)\n",
    "my_clf = MyKNeighborsClassifier(n_neighbors=2)"
   ]
  },
  {
   "cell_type": "code",
   "execution_count": 264,
   "metadata": {},
   "outputs": [
    {
     "name": "stdout",
     "output_type": "stream",
     "text": [
      "Wall time: 17.6 s\n"
     ]
    },
    {
     "data": {
      "text/plain": [
       "KNeighborsClassifier(algorithm='auto', leaf_size=30, metric='minkowski',\n",
       "           metric_params=None, n_jobs=1, n_neighbors=2, p=2,\n",
       "           weights='uniform')"
      ]
     },
     "execution_count": 264,
     "metadata": {},
     "output_type": "execute_result"
    }
   ],
   "source": [
    "%time clf.fit(X_train, y_train)"
   ]
  },
  {
   "cell_type": "code",
   "execution_count": 265,
   "metadata": {},
   "outputs": [
    {
     "name": "stdout",
     "output_type": "stream",
     "text": [
      "Wall time: 128 ms\n"
     ]
    }
   ],
   "source": [
    "%time my_clf.fit(X_train, y_train)"
   ]
  },
  {
   "cell_type": "code",
   "execution_count": 266,
   "metadata": {},
   "outputs": [
    {
     "name": "stdout",
     "output_type": "stream",
     "text": [
      "Wall time: 51.6 s\n"
     ]
    },
    {
     "data": {
      "text/plain": [
       "array([2., 3., 2., 5., 5., 9., 5., 8., 2., 9., 1., 4., 5., 5., 9., 4., 2.,\n",
       "       6., 2., 1., 5., 4., 1., 3., 3., 3., 5., 8., 0., 4., 4., 6., 9., 2.,\n",
       "       6., 4., 9., 9., 2., 5., 2., 9., 0., 9., 9., 5., 0., 5., 7., 2., 3.,\n",
       "       1., 4., 0., 0., 5., 5., 3., 2., 3., 2., 7., 6., 3., 1., 4., 8., 8.,\n",
       "       7., 0., 4., 7., 8., 5., 3., 1., 9., 2., 5., 5., 6., 4., 7., 6., 8.,\n",
       "       9., 4., 4., 3., 2., 4., 7., 6., 1., 8., 2., 4., 5., 9., 8., 5., 6.,\n",
       "       4., 9., 0., 8., 8., 6., 5., 6., 5., 4., 0., 4., 2., 3., 3., 1., 4.,\n",
       "       7., 5., 0., 2., 1., 9., 6., 1., 9., 1., 5., 1., 2., 3., 6., 1., 1.,\n",
       "       6., 9., 2., 1., 5., 3., 9., 7., 0., 0., 0., 6., 0., 3., 5., 3., 0.,\n",
       "       0., 2., 2., 7., 0., 7., 3., 7., 3., 6., 2., 6., 4., 5., 3., 1., 3.,\n",
       "       1., 3., 9., 2., 9., 0., 5., 8., 1., 4., 9., 6., 3., 7., 6., 1., 0.,\n",
       "       4., 1., 8., 5., 4., 0., 4., 8., 8., 7., 8., 9., 1., 3., 5., 4., 1.,\n",
       "       1., 2., 7., 3., 1., 5., 9., 0., 7., 3., 2., 5., 1., 6., 3., 2., 0.,\n",
       "       7., 1., 9., 3., 5., 2., 4., 9., 3., 4., 3., 9., 4., 0., 4., 0., 9.,\n",
       "       3., 1., 6., 9., 4., 4., 9., 6., 1., 7., 7., 8., 3., 2., 9., 4., 7.,\n",
       "       8., 2., 3., 2., 2., 4., 3., 3., 7., 1., 9., 0., 7., 1., 6., 9., 7.,\n",
       "       7., 6., 2., 9., 7., 9., 6., 5., 6., 8., 7., 5., 3., 0., 8., 5., 2.,\n",
       "       9., 0., 2., 5., 0., 6., 1., 5., 0., 1., 5., 9., 1., 9., 2., 2., 4.,\n",
       "       0., 9., 1., 3., 3., 0., 0., 8., 9., 7., 6., 6., 1., 6., 5., 7., 8.,\n",
       "       7., 0., 8., 3., 7., 3., 4., 8., 2., 8., 0., 4., 7., 8., 4., 8., 6.,\n",
       "       3., 5., 6., 2., 0., 1., 5., 0., 3., 9., 5., 8., 3., 3., 9., 5., 5.,\n",
       "       9., 7., 9., 0., 6., 0., 6., 7., 3., 9., 7., 1., 9., 3., 4., 7., 5.,\n",
       "       8., 5., 1., 8., 1., 4., 4., 8., 6., 4., 7., 9., 6., 2., 6., 1., 9.,\n",
       "       8., 5., 2., 2., 0., 5., 7., 3., 2., 7., 2., 6., 0., 9., 8., 2., 8.,\n",
       "       3., 9., 9., 7., 4., 5., 3., 1., 3., 7., 3., 2., 6., 7., 2., 8., 4.,\n",
       "       6., 7., 0., 6., 6., 9., 3., 6., 0., 8., 1., 7., 8., 0., 3., 4., 0.,\n",
       "       6., 2., 2., 6., 7., 4., 5., 5., 7., 6., 9., 3., 2., 4., 6., 2., 3.,\n",
       "       8., 2., 1., 6., 6., 1., 7., 8., 3., 5., 5., 4., 6., 8., 1., 1., 0.,\n",
       "       1., 1., 7., 3., 3., 8., 7., 0., 3., 9., 4., 2., 0., 3., 4., 8., 8.,\n",
       "       6., 0., 1., 3., 8., 8., 2., 0., 5., 5., 1., 6., 1., 2., 2., 4., 5.,\n",
       "       1., 0., 4., 4., 9., 0., 9., 7., 6., 1., 5., 2., 8., 5., 7., 6., 2.,\n",
       "       2., 0., 0., 9., 7., 5., 0., 7., 1., 7., 4., 8., 9., 6., 5., 1., 7.,\n",
       "       8., 8., 8., 8., 1., 9., 3., 7., 8., 1., 9., 6., 6., 9., 6., 1., 1.,\n",
       "       6., 0., 2., 5., 9., 6., 4., 3., 1., 0., 3., 6., 7., 0., 2., 4., 3.,\n",
       "       3., 3., 1., 0., 4., 4., 9., 1., 7., 2., 2., 9., 2., 6., 4., 4., 0.,\n",
       "       2., 1., 0., 4., 1., 1., 8., 0., 9., 5., 1., 9., 0., 7., 9., 1., 6.,\n",
       "       5., 8., 8., 7., 0., 1., 9., 1., 7., 4., 6., 3., 6., 2., 2., 2., 7.,\n",
       "       5., 4., 4., 9., 3., 4., 8., 7., 8., 0., 7., 4., 8., 0., 2., 1., 7.,\n",
       "       0., 5., 6., 1., 1., 1., 1., 8., 6., 8., 1., 8., 7., 1., 7., 4., 1.,\n",
       "       0., 7., 7., 9., 0., 3., 1., 0., 8., 7., 3., 9., 6., 4., 5., 8., 0.,\n",
       "       6., 7., 4., 7., 7., 7., 2., 1., 1., 0., 1., 8., 9., 6., 4., 2., 9.,\n",
       "       1., 2., 8.])"
      ]
     },
     "execution_count": 266,
     "metadata": {},
     "output_type": "execute_result"
    }
   ],
   "source": [
    "%time clf.predict(X_test)"
   ]
  },
  {
   "cell_type": "code",
   "execution_count": 267,
   "metadata": {},
   "outputs": [
    {
     "name": "stdout",
     "output_type": "stream",
     "text": [
      "Wall time: 1.24 s\n"
     ]
    },
    {
     "data": {
      "text/plain": [
       "array([2, 3, 2, 5, 5, 9, 5, 8, 2, 9, 1, 4, 5, 5, 9, 4, 2, 6, 2, 1, 5, 4,\n",
       "       1, 3, 3, 3, 5, 8, 0, 4, 4, 6, 9, 2, 6, 4, 9, 9, 2, 5, 2, 9, 0, 9,\n",
       "       9, 5, 0, 5, 7, 2, 3, 1, 4, 0, 0, 5, 5, 3, 2, 3, 2, 7, 6, 3, 1, 4,\n",
       "       8, 8, 7, 0, 4, 7, 8, 5, 3, 1, 9, 2, 5, 5, 6, 4, 7, 6, 8, 9, 4, 4,\n",
       "       3, 2, 4, 7, 6, 1, 8, 2, 4, 5, 9, 8, 5, 6, 4, 9, 0, 8, 8, 6, 5, 6,\n",
       "       5, 4, 0, 4, 2, 3, 3, 1, 4, 7, 5, 0, 2, 1, 9, 6, 1, 9, 1, 5, 1, 2,\n",
       "       3, 6, 1, 1, 6, 9, 2, 1, 5, 3, 9, 7, 0, 0, 0, 6, 0, 3, 5, 3, 0, 0,\n",
       "       2, 2, 7, 0, 7, 3, 7, 3, 6, 2, 6, 4, 5, 3, 1, 3, 1, 3, 9, 2, 9, 0,\n",
       "       5, 8, 1, 4, 9, 6, 3, 7, 6, 1, 0, 4, 1, 8, 5, 4, 0, 4, 8, 8, 7, 8,\n",
       "       9, 1, 3, 5, 4, 1, 1, 2, 7, 3, 1, 5, 9, 0, 7, 3, 2, 5, 1, 6, 3, 2,\n",
       "       0, 7, 1, 9, 3, 5, 2, 4, 9, 3, 4, 3, 9, 4, 0, 4, 0, 9, 3, 1, 6, 9,\n",
       "       4, 4, 9, 6, 1, 7, 7, 8, 3, 2, 9, 4, 7, 8, 2, 3, 2, 2, 4, 3, 3, 7,\n",
       "       1, 9, 0, 7, 1, 6, 9, 7, 7, 6, 2, 9, 7, 9, 6, 5, 6, 8, 7, 5, 3, 0,\n",
       "       8, 5, 2, 9, 0, 2, 5, 0, 6, 1, 5, 0, 1, 5, 9, 1, 9, 2, 2, 4, 0, 9,\n",
       "       1, 3, 3, 0, 0, 8, 9, 7, 6, 6, 1, 6, 5, 7, 8, 7, 0, 8, 3, 7, 3, 4,\n",
       "       8, 2, 8, 0, 4, 7, 8, 4, 8, 6, 3, 5, 6, 2, 0, 1, 5, 0, 3, 9, 5, 8,\n",
       "       3, 3, 9, 5, 5, 9, 7, 9, 0, 6, 0, 6, 7, 3, 9, 7, 1, 9, 3, 4, 7, 5,\n",
       "       8, 5, 1, 8, 1, 4, 4, 8, 6, 4, 7, 9, 6, 2, 6, 1, 9, 8, 5, 2, 2, 0,\n",
       "       5, 7, 3, 2, 7, 2, 6, 0, 9, 8, 2, 8, 3, 9, 9, 7, 4, 5, 3, 1, 3, 7,\n",
       "       3, 2, 6, 7, 2, 8, 4, 6, 7, 0, 6, 6, 9, 3, 6, 0, 8, 1, 7, 8, 0, 3,\n",
       "       4, 0, 6, 2, 2, 6, 7, 4, 5, 5, 7, 6, 9, 3, 2, 4, 6, 2, 3, 8, 2, 1,\n",
       "       6, 6, 1, 7, 8, 3, 5, 5, 4, 6, 8, 1, 1, 0, 1, 1, 7, 3, 3, 8, 7, 0,\n",
       "       3, 9, 4, 2, 0, 3, 4, 8, 8, 6, 0, 1, 3, 8, 8, 2, 0, 5, 5, 1, 6, 1,\n",
       "       2, 2, 4, 5, 1, 0, 4, 4, 9, 0, 9, 7, 6, 1, 5, 2, 8, 5, 7, 6, 2, 2,\n",
       "       0, 0, 9, 7, 5, 0, 7, 1, 7, 4, 8, 9, 6, 5, 1, 7, 8, 8, 8, 8, 1, 9,\n",
       "       3, 7, 8, 1, 9, 6, 6, 9, 6, 1, 1, 6, 0, 2, 5, 9, 6, 4, 3, 1, 0, 3,\n",
       "       6, 7, 0, 2, 4, 3, 3, 3, 1, 0, 4, 4, 9, 1, 7, 2, 2, 9, 2, 6, 4, 4,\n",
       "       0, 2, 1, 0, 4, 1, 1, 8, 0, 9, 5, 1, 9, 0, 7, 9, 1, 6, 5, 8, 8, 7,\n",
       "       0, 1, 9, 1, 7, 4, 6, 3, 6, 2, 2, 2, 7, 5, 4, 4, 9, 3, 4, 8, 7, 8,\n",
       "       0, 7, 4, 8, 0, 2, 1, 7, 0, 5, 6, 1, 1, 1, 1, 8, 6, 8, 1, 8, 7, 1,\n",
       "       7, 4, 1, 0, 7, 7, 9, 0, 3, 1, 0, 8, 7, 3, 9, 6, 4, 5, 8, 0, 6, 7,\n",
       "       4, 7, 7, 7, 2, 1, 1, 0, 1, 8, 9, 6, 4, 2, 9, 1, 2, 8], dtype=int64)"
      ]
     },
     "execution_count": 267,
     "metadata": {},
     "output_type": "execute_result"
    }
   ],
   "source": [
    "%time my_clf.predict(X_test)"
   ]
  },
  {
   "cell_type": "code",
   "execution_count": 268,
   "metadata": {},
   "outputs": [
    {
     "name": "stdout",
     "output_type": "stream",
     "text": [
      "Wall time: 52.1 s\n"
     ]
    },
    {
     "data": {
      "text/plain": [
       "array([[0., 0., 1., ..., 0., 0., 0.],\n",
       "       [0., 0., 0., ..., 0., 0., 0.],\n",
       "       [0., 0., 1., ..., 0., 0., 0.],\n",
       "       ...,\n",
       "       [0., 1., 0., ..., 0., 0., 0.],\n",
       "       [0., 0., 1., ..., 0., 0., 0.],\n",
       "       [0., 0., 0., ..., 0., 1., 0.]])"
      ]
     },
     "execution_count": 268,
     "metadata": {},
     "output_type": "execute_result"
    }
   ],
   "source": [
    "%time clf.predict_proba(X_test)"
   ]
  },
  {
   "cell_type": "code",
   "execution_count": 269,
   "metadata": {
    "scrolled": true
   },
   "outputs": [
    {
     "name": "stdout",
     "output_type": "stream",
     "text": [
      "Wall time: 1.27 s\n"
     ]
    },
    {
     "data": {
      "text/plain": [
       "array([[0., 0., 1., ..., 0., 0., 0.],\n",
       "       [0., 0., 0., ..., 0., 0., 0.],\n",
       "       [0., 0., 1., ..., 0., 0., 0.],\n",
       "       ...,\n",
       "       [0., 1., 0., ..., 0., 0., 0.],\n",
       "       [0., 0., 1., ..., 0., 0., 0.],\n",
       "       [0., 0., 0., ..., 0., 1., 0.]])"
      ]
     },
     "execution_count": 269,
     "metadata": {},
     "output_type": "execute_result"
    }
   ],
   "source": [
    "%time my_clf.predict_proba(X_test)"
   ]
  },
  {
   "cell_type": "code",
   "execution_count": 270,
   "metadata": {},
   "outputs": [
    {
     "data": {
      "text/plain": [
       "0.9742857142857143"
      ]
     },
     "execution_count": 270,
     "metadata": {},
     "output_type": "execute_result"
    }
   ],
   "source": [
    "clf.score(X_test, y_test)"
   ]
  },
  {
   "cell_type": "code",
   "execution_count": 271,
   "metadata": {},
   "outputs": [
    {
     "data": {
      "text/plain": [
       "0.9742857142857143"
      ]
     },
     "execution_count": 271,
     "metadata": {},
     "output_type": "execute_result"
    }
   ],
   "source": [
    "my_clf.score(X_test, y_test)"
   ]
  },
  {
   "cell_type": "markdown",
   "metadata": {},
   "source": [
    "Задание 4"
   ]
  },
  {
   "cell_type": "code",
   "execution_count": 326,
   "metadata": {},
   "outputs": [],
   "source": [
    "clf = KNeighborsClassifier(n_neighbors=2, algorithm='kd_tree')\n",
    "my_clf = MyKNeighborsClassifier(n_neighbors=2, algorithm='kd_tree')"
   ]
  },
  {
   "cell_type": "code",
   "execution_count": 328,
   "metadata": {},
   "outputs": [],
   "source": [
    "X_train, X_test, y_train, y_test = train_test_split(mnist.data, mnist.target, test_size=0.01, stratify=mnist.target)"
   ]
  },
  {
   "cell_type": "code",
   "execution_count": 329,
   "metadata": {},
   "outputs": [
    {
     "name": "stdout",
     "output_type": "stream",
     "text": [
      "Wall time: 18.4 s\n"
     ]
    },
    {
     "data": {
      "text/plain": [
       "KNeighborsClassifier(algorithm='kd_tree', leaf_size=30, metric='minkowski',\n",
       "           metric_params=None, n_jobs=1, n_neighbors=2, p=2,\n",
       "           weights='uniform')"
      ]
     },
     "execution_count": 329,
     "metadata": {},
     "output_type": "execute_result"
    }
   ],
   "source": [
    "%time clf.fit(X_train, y_train)"
   ]
  },
  {
   "cell_type": "code",
   "execution_count": 330,
   "metadata": {},
   "outputs": [
    {
     "name": "stdout",
     "output_type": "stream",
     "text": [
      "Wall time: 17.6 s\n"
     ]
    }
   ],
   "source": [
    "%time my_clf.fit(X_train, y_train)"
   ]
  },
  {
   "cell_type": "code",
   "execution_count": 331,
   "metadata": {},
   "outputs": [
    {
     "name": "stdout",
     "output_type": "stream",
     "text": [
      "Wall time: 51.7 s\n"
     ]
    },
    {
     "data": {
      "text/plain": [
       "array([4., 5., 2., 5., 6., 6., 1., 9., 1., 1., 4., 3., 0., 4., 4., 1., 2.,\n",
       "       8., 5., 0., 2., 3., 6., 1., 4., 1., 4., 3., 0., 8., 9., 1., 5., 6.,\n",
       "       7., 6., 7., 3., 8., 9., 8., 3., 7., 0., 1., 2., 4., 6., 0., 3., 7.,\n",
       "       0., 4., 3., 0., 7., 0., 8., 0., 2., 4., 1., 4., 7., 9., 4., 5., 5.,\n",
       "       2., 6., 1., 9., 8., 5., 1., 0., 6., 0., 5., 7., 5., 9., 3., 3., 8.,\n",
       "       8., 9., 9., 1., 6., 8., 7., 9., 1., 8., 3., 2., 1., 8., 4., 8., 2.,\n",
       "       2., 5., 4., 1., 2., 2., 2., 4., 4., 9., 3., 3., 0., 3., 7., 4., 2.,\n",
       "       5., 2., 3., 4., 6., 6., 8., 9., 5., 8., 6., 5., 9., 8., 4., 3., 8.,\n",
       "       9., 2., 7., 0., 9., 5., 1., 8., 3., 7., 9., 2., 2., 5., 3., 4., 0.,\n",
       "       5., 2., 6., 8., 3., 6., 4., 6., 1., 7., 4., 4., 4., 7., 1., 6., 1.,\n",
       "       5., 4., 5., 6., 2., 9., 5., 5., 7., 7., 1., 7., 7., 4., 1., 6., 3.,\n",
       "       1., 5., 5., 9., 6., 5., 4., 5., 6., 5., 1., 9., 5., 8., 9., 7., 7.,\n",
       "       3., 6., 9., 1., 0., 5., 6., 4., 7., 5., 1., 2., 4., 3., 4., 3., 9.,\n",
       "       8., 7., 1., 7., 9., 5., 0., 8., 5., 4., 0., 2., 0., 5., 3., 4., 8.,\n",
       "       2., 6., 1., 5., 4., 8., 9., 2., 7., 7., 1., 0., 7., 7., 1., 7., 1.,\n",
       "       0., 0., 8., 3., 9., 3., 9., 9., 5., 1., 8., 2., 6., 2., 2., 2., 6.,\n",
       "       0., 0., 3., 2., 3., 1., 5., 6., 6., 3., 4., 1., 5., 7., 0., 7., 5.,\n",
       "       0., 9., 5., 3., 6., 1., 1., 4., 4., 7., 6., 8., 3., 3., 9., 0., 7.,\n",
       "       8., 4., 9., 2., 8., 9., 6., 0., 7., 3., 3., 0., 0., 2., 3., 8., 0.,\n",
       "       4., 3., 5., 9., 6., 4., 8., 7., 2., 9., 5., 4., 4., 7., 6., 6., 3.,\n",
       "       1., 6., 1., 7., 2., 7., 3., 0., 3., 6., 8., 2., 1., 4., 1., 5., 2.,\n",
       "       6., 1., 4., 9., 0., 3., 6., 1., 8., 5., 3., 4., 0., 4., 1., 3., 0.,\n",
       "       8., 6., 9., 8., 1., 5., 1., 2., 4., 7., 6., 6., 8., 9., 7., 7., 1.,\n",
       "       4., 9., 4., 0., 4., 8., 0., 4., 3., 2., 8., 7., 8., 9., 2., 9., 7.,\n",
       "       4., 0., 9., 0., 1., 4., 9., 8., 1., 0., 6., 8., 7., 5., 8., 3., 3.,\n",
       "       8., 8., 3., 3., 1., 2., 6., 3., 6., 9., 1., 1., 0., 6., 3., 6., 7.,\n",
       "       1., 8., 9., 0., 4., 9., 6., 5., 1., 4., 0., 7., 9., 0., 2., 4., 3.,\n",
       "       3., 1., 7., 9., 5., 5., 5., 2., 7., 2., 1., 1., 0., 8., 7., 0., 0.,\n",
       "       7., 8., 4., 6., 1., 3., 7., 8., 1., 0., 8., 9., 0., 0., 9., 1., 0.,\n",
       "       7., 9., 6., 8., 3., 7., 1., 7., 2., 1., 2., 0., 6., 1., 0., 8., 2.,\n",
       "       7., 7., 3., 5., 6., 6., 6., 2., 0., 6., 1., 2., 3., 6., 7., 2., 2.,\n",
       "       0., 7., 5., 6., 7., 9., 0., 6., 2., 6., 0., 4., 1., 2., 3., 2., 6.,\n",
       "       0., 3., 1., 6., 5., 1., 5., 4., 8., 7., 3., 9., 0., 8., 7., 3., 7.,\n",
       "       3., 6., 2., 9., 8., 1., 3., 0., 3., 8., 3., 6., 3., 9., 3., 9., 8.,\n",
       "       2., 3., 7., 3., 4., 2., 8., 2., 3., 5., 0., 1., 7., 0., 6., 1., 7.,\n",
       "       9., 3., 4., 8., 2., 8., 9., 6., 9., 8., 6., 5., 2., 5., 7., 5., 3.,\n",
       "       0., 4., 1., 2., 1., 2., 5., 4., 1., 2., 9., 7., 2., 5., 5., 7., 4.,\n",
       "       7., 7., 8., 9., 3., 2., 7., 8., 3., 2., 9., 1., 3., 1., 9., 0., 9.,\n",
       "       7., 2., 2., 0., 4., 1., 4., 6., 4., 4., 5., 1., 6., 0., 3., 3., 4.,\n",
       "       1., 4., 0., 2., 1., 0., 1., 4., 0., 4., 9., 0., 4., 1., 6., 0., 1.,\n",
       "       5., 7., 9., 9., 0., 0., 9., 2., 7., 9., 1., 6., 9., 2., 1., 8., 7.,\n",
       "       8., 7., 2.])"
      ]
     },
     "execution_count": 331,
     "metadata": {},
     "output_type": "execute_result"
    }
   ],
   "source": [
    "%time clf.predict(X_test)"
   ]
  },
  {
   "cell_type": "code",
   "execution_count": 332,
   "metadata": {},
   "outputs": [
    {
     "name": "stdout",
     "output_type": "stream",
     "text": [
      "Wall time: 43 s\n"
     ]
    },
    {
     "data": {
      "text/plain": [
       "array([4, 5, 2, 5, 6, 6, 1, 9, 1, 1, 4, 3, 0, 4, 4, 1, 2, 8, 5, 0, 2, 3,\n",
       "       6, 1, 4, 1, 4, 3, 0, 8, 9, 1, 5, 6, 7, 6, 7, 3, 8, 9, 8, 3, 7, 0,\n",
       "       1, 2, 4, 6, 0, 3, 7, 0, 4, 3, 0, 7, 0, 8, 0, 2, 4, 1, 4, 7, 9, 4,\n",
       "       5, 5, 2, 6, 1, 9, 8, 5, 1, 0, 6, 0, 5, 7, 5, 9, 3, 3, 8, 8, 9, 9,\n",
       "       1, 6, 8, 7, 9, 1, 8, 3, 2, 1, 8, 4, 8, 2, 2, 5, 4, 1, 2, 2, 2, 4,\n",
       "       4, 9, 3, 3, 0, 3, 7, 4, 2, 5, 2, 3, 4, 6, 6, 8, 9, 5, 8, 6, 5, 9,\n",
       "       8, 4, 3, 8, 9, 2, 7, 0, 9, 5, 1, 8, 3, 7, 9, 2, 2, 5, 3, 4, 0, 5,\n",
       "       2, 6, 8, 3, 6, 4, 6, 1, 7, 4, 4, 4, 7, 1, 6, 1, 5, 4, 5, 6, 2, 9,\n",
       "       5, 5, 7, 7, 1, 7, 7, 4, 1, 6, 3, 1, 5, 5, 9, 6, 5, 4, 5, 6, 5, 1,\n",
       "       9, 5, 8, 9, 7, 7, 3, 6, 9, 1, 0, 5, 6, 4, 7, 5, 1, 2, 4, 3, 4, 3,\n",
       "       9, 8, 7, 1, 7, 9, 5, 0, 8, 5, 4, 0, 2, 0, 5, 3, 4, 8, 2, 6, 1, 5,\n",
       "       4, 8, 9, 2, 7, 7, 1, 0, 7, 7, 1, 7, 1, 0, 0, 8, 3, 9, 3, 9, 9, 5,\n",
       "       1, 8, 2, 6, 2, 2, 2, 6, 0, 0, 3, 2, 3, 1, 5, 6, 6, 3, 4, 1, 5, 7,\n",
       "       0, 7, 5, 0, 9, 5, 3, 6, 1, 1, 4, 4, 7, 6, 8, 3, 3, 9, 0, 7, 8, 4,\n",
       "       9, 2, 8, 9, 6, 0, 7, 3, 3, 0, 0, 2, 3, 8, 0, 4, 3, 5, 9, 6, 4, 8,\n",
       "       7, 2, 9, 5, 4, 4, 7, 6, 6, 3, 1, 6, 1, 7, 2, 7, 3, 0, 3, 6, 8, 2,\n",
       "       1, 4, 1, 5, 2, 6, 1, 4, 9, 0, 3, 6, 1, 8, 5, 3, 4, 0, 4, 1, 3, 0,\n",
       "       8, 6, 9, 8, 1, 5, 1, 2, 4, 7, 6, 6, 8, 9, 7, 7, 1, 4, 9, 4, 0, 4,\n",
       "       8, 0, 4, 3, 2, 8, 7, 8, 9, 2, 9, 7, 4, 0, 9, 0, 1, 4, 9, 8, 1, 0,\n",
       "       6, 8, 7, 5, 8, 3, 3, 8, 8, 3, 3, 1, 2, 6, 3, 6, 9, 1, 1, 0, 6, 3,\n",
       "       6, 7, 1, 8, 9, 0, 4, 9, 6, 5, 1, 4, 0, 7, 9, 0, 2, 4, 3, 3, 1, 7,\n",
       "       9, 5, 5, 5, 2, 7, 2, 1, 1, 0, 8, 7, 0, 0, 7, 8, 4, 6, 1, 3, 7, 8,\n",
       "       1, 0, 8, 9, 0, 0, 9, 1, 0, 7, 9, 6, 8, 3, 7, 1, 7, 2, 1, 2, 0, 6,\n",
       "       1, 0, 8, 2, 7, 7, 3, 5, 6, 6, 6, 2, 0, 6, 1, 2, 3, 6, 7, 2, 2, 0,\n",
       "       7, 5, 6, 7, 9, 0, 6, 2, 6, 0, 4, 1, 2, 3, 2, 6, 0, 3, 1, 6, 5, 1,\n",
       "       5, 4, 8, 7, 3, 9, 0, 8, 7, 3, 7, 3, 6, 2, 9, 8, 1, 3, 0, 3, 8, 3,\n",
       "       6, 3, 9, 3, 9, 8, 2, 3, 7, 3, 4, 2, 8, 2, 3, 5, 0, 1, 7, 0, 6, 1,\n",
       "       7, 9, 3, 4, 8, 2, 8, 9, 6, 9, 8, 6, 5, 2, 5, 7, 5, 3, 0, 4, 1, 2,\n",
       "       1, 2, 5, 4, 1, 2, 9, 7, 2, 5, 5, 7, 4, 7, 7, 8, 9, 3, 2, 7, 8, 3,\n",
       "       2, 9, 1, 3, 1, 9, 0, 9, 7, 2, 2, 0, 4, 1, 4, 6, 4, 4, 5, 1, 6, 0,\n",
       "       3, 3, 4, 1, 4, 0, 2, 1, 0, 1, 4, 0, 4, 9, 0, 4, 1, 6, 0, 1, 5, 7,\n",
       "       9, 9, 0, 0, 9, 2, 7, 9, 1, 6, 9, 2, 1, 8, 7, 8, 7, 2], dtype=int64)"
      ]
     },
     "execution_count": 332,
     "metadata": {},
     "output_type": "execute_result"
    }
   ],
   "source": [
    "%time my_clf.predict(X_test)"
   ]
  },
  {
   "cell_type": "code",
   "execution_count": 333,
   "metadata": {},
   "outputs": [
    {
     "name": "stdout",
     "output_type": "stream",
     "text": [
      "Wall time: 51.8 s\n"
     ]
    },
    {
     "data": {
      "text/plain": [
       "array([[0., 0., 0., ..., 0., 0., 0.],\n",
       "       [0., 0., 0., ..., 0., 0., 0.],\n",
       "       [0., 0., 1., ..., 0., 0., 0.],\n",
       "       ...,\n",
       "       [0., 0., 0., ..., 0., 1., 0.],\n",
       "       [0., 0., 0., ..., 1., 0., 0.],\n",
       "       [0., 0., 1., ..., 0., 0., 0.]])"
      ]
     },
     "execution_count": 333,
     "metadata": {},
     "output_type": "execute_result"
    }
   ],
   "source": [
    "%time clf.predict_proba(X_test)"
   ]
  },
  {
   "cell_type": "code",
   "execution_count": 334,
   "metadata": {},
   "outputs": [
    {
     "name": "stdout",
     "output_type": "stream",
     "text": [
      "Wall time: 43 s\n"
     ]
    },
    {
     "data": {
      "text/plain": [
       "array([[0., 0., 0., ..., 0., 0., 0.],\n",
       "       [0., 0., 0., ..., 0., 0., 0.],\n",
       "       [0., 0., 1., ..., 0., 0., 0.],\n",
       "       ...,\n",
       "       [0., 0., 0., ..., 0., 1., 0.],\n",
       "       [0., 0., 0., ..., 1., 0., 0.],\n",
       "       [0., 0., 1., ..., 0., 0., 0.]])"
      ]
     },
     "execution_count": 334,
     "metadata": {},
     "output_type": "execute_result"
    }
   ],
   "source": [
    "%time my_clf.predict_proba(X_test)"
   ]
  },
  {
   "cell_type": "code",
   "execution_count": 335,
   "metadata": {},
   "outputs": [
    {
     "data": {
      "text/plain": [
       "0.97"
      ]
     },
     "execution_count": 335,
     "metadata": {},
     "output_type": "execute_result"
    }
   ],
   "source": [
    "clf.score(X_test, y_test)"
   ]
  },
  {
   "cell_type": "code",
   "execution_count": 336,
   "metadata": {},
   "outputs": [
    {
     "data": {
      "text/plain": [
       "0.97"
      ]
     },
     "execution_count": 336,
     "metadata": {},
     "output_type": "execute_result"
    }
   ],
   "source": [
    "my_clf.score(X_test, y_test)"
   ]
  },
  {
   "cell_type": "markdown",
   "metadata": {},
   "source": [
    "Задание 5"
   ]
  },
  {
   "cell_type": "code",
   "execution_count": 338,
   "metadata": {},
   "outputs": [
    {
     "ename": "SyntaxError",
     "evalue": "invalid syntax (<ipython-input-338-f5075448815a>, line 2)",
     "output_type": "error",
     "traceback": [
      "\u001b[1;36m  File \u001b[1;32m\"<ipython-input-338-f5075448815a>\"\u001b[1;36m, line \u001b[1;32m2\u001b[0m\n\u001b[1;33m    Удобная библиотека для визуализации данных, основанная на matplotlib\u001b[0m\n\u001b[1;37m                     ^\u001b[0m\n\u001b[1;31mSyntaxError\u001b[0m\u001b[1;31m:\u001b[0m invalid syntax\n"
     ]
    }
   ],
   "source": [
    "# seaborn\n",
    "Удобная библиотека для визуализации данных, основанная на matplotlib\n",
    "# matplotlib\n",
    "библеотека для построения различных граффиков\n",
    "# train_test_split\n",
    "функция, которая разделяет выборку на две части, можно задать пропорции.\n",
    "# Pipelin%load_ext e (from sklearn.pipeline import Pipeline)\n",
    "используется для последовательного преобразования данных\n",
    "# StandardScaler (from sklearn.preprocessing import StandardScaler)\n",
    "Нужен для стандартизации данных\n",
    "# ClassifierMixin\n",
    "Класс от которого наследуются все классификаторы\n",
    "# NeighborsBase\n",
    "Класс от которого наследуются все neigbors классификаторы\n",
    "# KNeighborsMixin\n",
    "Класс от которого наследуются все к-nn классификаторы\n",
    "# SupervisedIntegerMixin\n",
    "базовый класс для метода fit"
   ]
  },
  {
   "cell_type": "code",
   "execution_count": null,
   "metadata": {},
   "outputs": [],
   "source": []
  }
 ],
 "metadata": {
  "kernelspec": {
   "display_name": "Python 3",
   "language": "python",
   "name": "python3"
  },
  "language_info": {
   "codemirror_mode": {
    "name": "ipython",
    "version": 3
   },
   "file_extension": ".py",
   "mimetype": "text/x-python",
   "name": "python",
   "nbconvert_exporter": "python",
   "pygments_lexer": "ipython3",
   "version": "3.6.5"
  }
 },
 "nbformat": 4,
 "nbformat_minor": 2
}
