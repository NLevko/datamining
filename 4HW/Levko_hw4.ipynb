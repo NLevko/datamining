{
 "cells": [
  {
   "cell_type": "markdown",
   "metadata": {},
   "source": [
    "# Алгоритмы интеллектуальной обработки больших объемов данных\n",
    "## Домашнее задание №4 - Метод k-средних, предобработка признаков\n"
   ]
  },
  {
   "cell_type": "markdown",
   "metadata": {},
   "source": [
    "###### <hr\\>\n",
    "**Общая информация**\n",
    "\n",
    "**Срок сдачи:** 28 ноября 2018, 06:00 <br\\>\n",
    "**Штраф за опоздание:** -2 балла после 06:00 28 ноября, -4 балла после 06:00 5 декабря, -6 баллов после 06:00 12 декабря, -8 баллов после 19 декабря\n",
    "\n",
    "При отправлении ДЗ указывайте фамилию в названии файла\n",
    "Присылать ДЗ необходимо в виде ссылки на свой github репозиторий в slack @alkhamush\n",
    "\n",
    "Необходимо в slack создать таск в приватный чат:\n",
    "/todo Фамилия Имя ссылка на гитхаб @alkhamush\n",
    "Пример:\n",
    "/todo Ксения Стройкова https://github.com/stroykova/spheremailru/stroykova_hw1.ipynb @alkhamush\n",
    "Дополнительно нужно просто скинуть ссылку в slack в личный чат\n",
    "\n",
    "Используйте данный Ipython Notebook при оформлении домашнего задания."
   ]
  },
  {
   "cell_type": "markdown",
   "metadata": {},
   "source": [
    "# Имплементация K-means\n",
    "\n",
    "Пользуясь наработками выше, имплементируйте метод k-means.  \n",
    "При инициализации необходимо задавать количество кластеров, функцию расстояния между кластерами (для оригинального k-means - евклидово расстояние) и начальное состояние генератора случайных чисел.\n",
    "\n",
    "После обучения, среди атрибутов класса `Kmeans` должны появится\n",
    "* Метки кластеров для объектов\n",
    "* Координаты центройдов кластеров\n",
    "\n",
    "k-means - это алгоритм **кластеризации**, а не классификации, а посему метод `.predict()` в нем фактически не нужен, но он может возвращать метки ближайшего кластера для объектов."
   ]
  },
  {
   "cell_type": "markdown",
   "metadata": {},
   "source": [
    "###### Задание 1 (2 баллов)\n",
    "Имплементируйте метод k-means. Задание считается выполненным, если Ваша реализация работает быстрее реализации из sklearn.\n",
    "\n",
    "Теория для выполнения задания 2 и 3 остаётся на самостоятельное изучение. Теории немного и она совсем простая.\n",
    "\n",
    "###### Задание 2 (2 балла)\n",
    "Имплементируйте класс MiniBatchKMeans, который является классом наследником Kmeans.\n",
    "\n",
    "###### Задание 3 (2 балла)\n",
    "Превратите k-means в k-means++. Для этого нужно реализовать метод в классе Kmeans, который будет инициализировать более \"хорошие\" значения центроидов. Чтобы использовался метод k-means++, в параметр init необходимо передать строковое значение 'k-means' (по умолчанию 'random').\n",
    "\n",
    "###### Задание 4 (2 балла)\n",
    "В пункте \"Проверка корректности метода\" нужно нарисовать графики, которые показывают зависимость времени выполнения алгоритма от количества сэмплов. Графики должны быть  нарисованы для различных комбинаций реализаций алгоритма (k-means, k-means++, k-means с MiniBatchKMeans, k-means++ с MiniBatchKMeans). График достаточно построить на 5-10 точках.\n",
    "\n",
    "###### Задание 5 (2 балла)\n",
    "В пункте \"Применение K-means на реальных данных\" нужно сравнить различные реализации k-means (k-means, k-means++, k-means с MiniBatchKMeans, k-means++ с MiniBatchKMeans). После чего написать вывод, в котором должно быть объяснение того, почему один алгоритм оказался лучше остальных или почему не было выявлено лучшего алгоритма.\n",
    "\n",
    "**Штрафные баллы:**\n",
    "\n",
    "1. Невыполнение PEP8 -1 балл\n",
    "2. Отсутствие фамилии в имени скрипта (скрипт должен называться по аналогии со stroykova_hw4.ipynb) -1 балл\n",
    "3. Все строчки должны быть выполнены. Нужно, чтобы output команды можно было увидеть уже в git'е. В противном случае -1 балл\n",
    "4. При оформлении ДЗ нужно пользоваться данным файлом в качестве шаблона. Не нужно удалять и видоизменять написанный код и текст. В противном случае -1 балл\n",
    "<hr\\>"
   ]
  },
  {
   "cell_type": "code",
   "execution_count": 46,
   "metadata": {},
   "outputs": [
    {
     "name": "stdout",
     "output_type": "stream",
     "text": [
      "The pycodestyle_magic extension is already loaded. To reload it, use:\n",
      "  %reload_ext pycodestyle_magic\n"
     ]
    }
   ],
   "source": [
    "import pandas as pd\n",
    "import numpy as np\n",
    "import matplotlib.pyplot as plt\n",
    "from sklearn.cluster import KMeans\n",
    "from sklearn.metrics.pairwise import euclidean_distances\n",
    "from sklearn import preprocessing\n",
    "from time import time\n",
    "%matplotlib inline\n",
    "\n",
    "plt.style.use('ggplot')\n",
    "plt.rcParams['figure.figsize'] = (12,5)\n",
    "\n",
    "%load_ext pycodestyle_magic"
   ]
  },
  {
   "cell_type": "code",
   "execution_count": 47,
   "metadata": {},
   "outputs": [
    {
     "name": "stderr",
     "output_type": "stream",
     "text": [
      "100:1: W391 blank line at end of file\n"
     ]
    }
   ],
   "source": [
    "%%pycodestyle\n",
    "\n",
    "\n",
    "class MyKmeans:\n",
    "\n",
    "    def __init__(self, k=2, metric='euclidean', max_iter=1000,\n",
    "                 random_state=None, init='random', batch_size=None):\n",
    "        \"\"\"\n",
    "        Инициализация метода\n",
    "        :k - количество кластеров\n",
    "        :metric - функция расстояния между объектами\n",
    "        :max_iter - максиальное количество итераций\n",
    "        :random_state - seed для инициализации генератора случайных чисел\n",
    "        \"\"\"\n",
    "        self.init = init\n",
    "        self.k = k\n",
    "        self.random_state = random_state\n",
    "        self.metric = metric\n",
    "        self.max_iter = max_iter\n",
    "        self.batch_size = batch_size\n",
    "\n",
    "    def fit(self, X, y=None):\n",
    "        \"\"\"\n",
    "        Процедура обучения k-means\n",
    "        \"\"\"\n",
    "        # Инициализация генератора случайных чисел\n",
    "        np.random.seed(self.random_state)\n",
    "\n",
    "        # Массив с метками кластеров для каждого объекта из X\n",
    "        self.labels = np.empty(X.shape[0])\n",
    "\n",
    "        # Массив с центройдами кластеров\n",
    "        self.centroids = np.empty((self.k, X.shape[1]))\n",
    "\n",
    "        # Your Code Here\n",
    "        # Первый центроид кидаем случайно,\n",
    "        # Следующих считаем вероятности и кидаем в наиболее отдаленые\n",
    "        if self.init == 'random':\n",
    "            self.centroids = X[np.random.choice(X.shape[0],\n",
    "                                                replace=False, size=self.k)]\n",
    "\n",
    "        if self.init == 'k-means':\n",
    "            self.centroids = np.empty((self.k, X.shape[1]))\n",
    "            self.centroids[0] = X[np.random.choice(X.shape[0])]\n",
    "\n",
    "        # Используем евклидово расстояние\n",
    "            for i in range(1, self.k):\n",
    "                dist = euclidean_distances(X,\n",
    "                                           self.centroids[:i, :]).min(axis=1)\n",
    "                dist = dist / dist.sum()\n",
    "                self.centroids[i] = X[np.random.choice(X.shape[0],\n",
    "                                                       replace=False,\n",
    "                                                       p=dist)]\n",
    "\n",
    "        centroids = np.empty((self.k, X.shape[1]))\n",
    "\n",
    "        # Находим новые, более оптимальные местонахождения\n",
    "        # Центройд\n",
    "        for i in range(self.max_iter):\n",
    "            X2 = X\n",
    "            if self.batch_size is not None:\n",
    "                X2 = X[np.random.choice(X.shape[0],\n",
    "                                        replace=False,\n",
    "                                        size=min(self.batch_size, X.shape[0]))]\n",
    "\n",
    "            self.labels = euclidean_distances(X2,\n",
    "                                              self.centroids).argmin(axis=1)\n",
    "\n",
    "            for i in range(self.k):\n",
    "                if np.any(self.labels == i, axis=0):\n",
    "\n",
    "                    centroids[i] = np.mean(X2[self.labels == i],\n",
    "                                           axis=0)\n",
    "                else:\n",
    "                    centroids[i] = X[np.random.choice(X.shape[0])]\n",
    "\n",
    "            if np.all(np.abs(centroids - self.centroids) < 0.05):\n",
    "                break\n",
    "\n",
    "            self.centroids = centroids\n",
    "\n",
    "        self.labels = euclidean_distances(X, self.centroids).argmin(axis=1)\n",
    "\n",
    "        return self\n",
    "\n",
    "    def predict(self, X, y=None):\n",
    "        \"\"\"\n",
    "        Процедура предсказания кластера\n",
    "\n",
    "        Возвращает метку ближайшего кластера для каждого объекта\n",
    "        \"\"\"\n",
    "        return euclidean_distances(X, self.centroids).argmin(axis=1)\n",
    "\n",
    "\n",
    "class MiniBatchMyKMeans(MyKmeans):\n",
    "    def __init__(self, k=2, metric='euclidean', max_iter=1000,\n",
    "                 random_state=None, init='random', batch_size=100):\n",
    "        super().__init__(k, metric, max_iter, random_state, init, batch_size)\n",
    "        self.batch_size = batch_size"
   ]
  },
  {
   "cell_type": "markdown",
   "metadata": {},
   "source": [
    "### Проверка корректности метода\n",
    "\n",
    "Перед тем как применять алгоритм на реальных данных, нужно испытать его на простых \"игрушечных\" данных.\n",
    "\n",
    "Если алгоритм реализован правильно, то метод должен идеально разбивать на 3 кластера данные ниже. Проверьте это.\n",
    "\n",
    "ВНИМАНИЕ! Проверка должна быть осуществлена на всех реализациях, иначе реализация не будет зачтена!"
   ]
  },
  {
   "cell_type": "code",
   "execution_count": 48,
   "metadata": {},
   "outputs": [],
   "source": [
    "from sklearn.datasets import make_blobs"
   ]
  },
  {
   "cell_type": "code",
   "execution_count": 49,
   "metadata": {},
   "outputs": [],
   "source": [
    "X, y = make_blobs(n_samples=100, n_features=2, centers=3, cluster_std=1, \n",
    "           center_box=(-10.0, 10.0), shuffle=False, random_state=1234)"
   ]
  },
  {
   "cell_type": "code",
   "execution_count": 52,
   "metadata": {},
   "outputs": [
    {
     "data": {
      "text/plain": [
       "<matplotlib.collections.PathCollection at 0x7fcc61ee40b8>"
      ]
     },
     "execution_count": 52,
     "metadata": {},
     "output_type": "execute_result"
    },
    {
     "data": {
      "image/png": "[encoded data removed]",
      "text/plain": [
       "<Figure size 864x360 with 1 Axes>"
      ]
     },
     "metadata": {},
     "output_type": "display_data"
    }
   ],
   "source": [
    "plt.scatter(X[:,0], X[:, 1], c=y)"
   ]
  },
  {
   "cell_type": "markdown",
   "metadata": {},
   "source": [
    "Проверьте Вашу имплементацию на простых данных (без этого пункта ДЗ не считается выполненным).   \n",
    "КОММЕНТАРИИ НЕ СТИРАТЬ!"
   ]
  },
  {
   "cell_type": "code",
   "execution_count": 54,
   "metadata": {},
   "outputs": [
    {
     "data": {
      "text/plain": [
       "<matplotlib.collections.PathCollection at 0x7fcc61e389b0>"
      ]
     },
     "execution_count": 54,
     "metadata": {},
     "output_type": "execute_result"
    },
    {
     "data": {
      "image/png": "[encoded data removed]",
      "text/plain": [
       "<Figure size 864x360 with 1 Axes>"
      ]
     },
     "metadata": {},
     "output_type": "display_data"
    }
   ],
   "source": [
    "## Работоспособность MyKmeans\n",
    "clf = MyKmeans(k=3)\n",
    "clf.fit(X)\n",
    "plt.scatter(X[:, 0], X[:, 1], c=clf.predict(X))\n",
    "plt.scatter(clf.centroids[:, 0], clf.centroids[:, 1])"
   ]
  },
  {
   "cell_type": "code",
   "execution_count": 55,
   "metadata": {},
   "outputs": [
    {
     "data": {
      "text/plain": [
       "<matplotlib.collections.PathCollection at 0x7fcc62011240>"
      ]
     },
     "execution_count": 55,
     "metadata": {},
     "output_type": "execute_result"
    },
    {
     "data": {
      "image/png": "[encoded data removed]",
      "text/plain": [
       "<Figure size 864x360 with 1 Axes>"
      ]
     },
     "metadata": {},
     "output_type": "display_data"
    }
   ],
   "source": [
    "## Работоспособность MyKmeans++\n",
    "clf = MyKmeans(k=3, init='k-means')\n",
    "clf.fit(X)\n",
    "plt.scatter(X[:, 0], X[:, 1], c=clf.predict(X))\n",
    "plt.scatter(clf.centroids[:, 0], clf.centroids[:, 1])"
   ]
  },
  {
   "cell_type": "code",
   "execution_count": 58,
   "metadata": {},
   "outputs": [
    {
     "data": {
      "text/plain": [
       "<matplotlib.collections.PathCollection at 0x7fcc61c49c18>"
      ]
     },
     "execution_count": 58,
     "metadata": {},
     "output_type": "execute_result"
    },
    {
     "data": {
      "image/png": "[encoded data removed]",
      "text/plain": [
       "<Figure size 864x360 with 1 Axes>"
      ]
     },
     "metadata": {},
     "output_type": "display_data"
    }
   ],
   "source": [
    "## Работоспособность MyKmeans с MiniBatchMyKmeans\n",
    "clf = MiniBatchMyKMeans(k=3, batch_size=10)\n",
    "clf.fit(X)\n",
    "plt.scatter(X[:, 0], X[:, 1], c=clf.predict(X))\n",
    "plt.scatter(clf.centroids[:, 0], clf.centroids[:, 1])"
   ]
  },
  {
   "cell_type": "code",
   "execution_count": 59,
   "metadata": {},
   "outputs": [
    {
     "data": {
      "text/plain": [
       "<matplotlib.collections.PathCollection at 0x7fcc61c3a588>"
      ]
     },
     "execution_count": 59,
     "metadata": {},
     "output_type": "execute_result"
    },
    {
     "data": {
      "image/png": "[encoded data removed]",
      "text/plain": [
       "<Figure size 864x360 with 1 Axes>"
      ]
     },
     "metadata": {},
     "output_type": "display_data"
    }
   ],
   "source": [
    "## Работоспособность MyKmeans++ с MiniBatchMyKmeans\n",
    "clf = MiniBatchMyKMeans(k=3, init='k-means', batch_size=10)\n",
    "clf.fit(X)\n",
    "plt.scatter(X[:, 0], X[:, 1], c=clf.predict(X))\n",
    "plt.scatter(clf.centroids[:, 0], clf.centroids[:, 1])"
   ]
  },
  {
   "cell_type": "code",
   "execution_count": 60,
   "metadata": {},
   "outputs": [
    {
     "name": "stdout",
     "output_type": "stream",
     "text": [
      "CPU times: user 1.39 s, sys: 0 ns, total: 1.39 s\n",
      "Wall time: 1.39 s\n"
     ]
    },
    {
     "data": {
      "text/plain": [
       "KMeans(algorithm='auto', copy_x=True, init='k-means++', max_iter=1000,\n",
       "    n_clusters=3, n_init=10, n_jobs=1, precompute_distances='auto',\n",
       "    random_state=None, tol=0, verbose=0)"
      ]
     },
     "execution_count": 60,
     "metadata": {},
     "output_type": "execute_result"
    }
   ],
   "source": [
    "## Время выполнения алгоритма Kmeans из sklearn\n",
    "clf = KMeans(n_clusters=3, max_iter=1000, tol=0)\n",
    "%time clf.fit(X)"
   ]
  },
  {
   "cell_type": "code",
   "execution_count": 61,
   "metadata": {},
   "outputs": [
    {
     "name": "stdout",
     "output_type": "stream",
     "text": [
      "CPU times: user 3.57 ms, sys: 0 ns, total: 3.57 ms\n",
      "Wall time: 2.85 ms\n"
     ]
    },
    {
     "data": {
      "text/plain": [
       "<__main__.MyKmeans at 0x7fcc61bff0b8>"
      ]
     },
     "execution_count": 61,
     "metadata": {},
     "output_type": "execute_result"
    }
   ],
   "source": [
    "## Время выполнения алгоритма MyKmeans\n",
    "my_clf = MyKmeans(k=3, init='random')\n",
    "%time my_clf.fit(X)"
   ]
  },
  {
   "cell_type": "code",
   "execution_count": 62,
   "metadata": {},
   "outputs": [
    {
     "name": "stdout",
     "output_type": "stream",
     "text": [
      "CPU times: user 4.2 ms, sys: 0 ns, total: 4.2 ms\n",
      "Wall time: 3.34 ms\n"
     ]
    },
    {
     "data": {
      "text/plain": [
       "<__main__.MyKmeans at 0x7fcc61c77358>"
      ]
     },
     "execution_count": 62,
     "metadata": {},
     "output_type": "execute_result"
    }
   ],
   "source": [
    "## Время выполнения алгоритма MyKmeans++\n",
    "my_clf = MyKmeans(k=3, init='k-means')\n",
    "%time my_clf.fit(X)"
   ]
  },
  {
   "cell_type": "code",
   "execution_count": 63,
   "metadata": {},
   "outputs": [
    {
     "name": "stdout",
     "output_type": "stream",
     "text": [
      "CPU times: user 4.66 ms, sys: 0 ns, total: 4.66 ms\n",
      "Wall time: 3.53 ms\n"
     ]
    },
    {
     "data": {
      "text/plain": [
       "<__main__.MiniBatchMyKMeans at 0x7fcc61bf3d30>"
      ]
     },
     "execution_count": 63,
     "metadata": {},
     "output_type": "execute_result"
    }
   ],
   "source": [
    "## Время выполнения алгоритма MyKmeans с MiniBatchMyKmeans\n",
    "my_clf = MiniBatchMyKMeans(k=3, init='random')\n",
    "%time my_clf.fit(X)"
   ]
  },
  {
   "cell_type": "code",
   "execution_count": 64,
   "metadata": {},
   "outputs": [
    {
     "name": "stdout",
     "output_type": "stream",
     "text": [
      "CPU times: user 5 ms, sys: 0 ns, total: 5 ms\n",
      "Wall time: 4.05 ms\n"
     ]
    },
    {
     "data": {
      "text/plain": [
       "<__main__.MiniBatchMyKMeans at 0x7fcc61bf3b00>"
      ]
     },
     "execution_count": 64,
     "metadata": {},
     "output_type": "execute_result"
    }
   ],
   "source": [
    "## Время выполнения алгоритма  MyKmeans++ с MiniBatchMyKmeans\n",
    "my_clf = MiniBatchMyKMeans(k=3, init='k-means')\n",
    "%time my_clf.fit(X)"
   ]
  },
  {
   "cell_type": "code",
   "execution_count": 65,
   "metadata": {},
   "outputs": [],
   "source": [
    "# Задание 4"
   ]
  },
  {
   "cell_type": "code",
   "execution_count": 66,
   "metadata": {},
   "outputs": [
    {
     "data": {
      "text/plain": [
       "<matplotlib.legend.Legend at 0x7fcc60535198>"
      ]
     },
     "execution_count": 66,
     "metadata": {},
     "output_type": "execute_result"
    },
    {
     "data": {
      "image/png": "[encoded data removed]",
      "text/plain": [
       "<Figure size 864x360 with 1 Axes>"
      ]
     },
     "metadata": {},
     "output_type": "display_data"
    }
   ],
   "source": [
    "clf = KMeans(n_clusters=3, init='random', max_iter=1000, n_init=1)\n",
    "clf2 = MyKmeans(k=3, init='random', max_iter=1000)\n",
    "clf3 = MyKmeans(k=3, init='k-means', max_iter=1000)\n",
    "clf4 = MiniBatchMyKMeans(k=3, batch_size=10)\n",
    "clf5 = MiniBatchMyKMeans(k=3, init='k-means', batch_size=10)\n",
    "samples = np.linspace(100, 80000, 10, dtype=int)\n",
    "info = np.empty((5, samples.shape[0]))\n",
    "names = ['sklearn.KMeans', 'MyKmeans', 'MyKmeans++', 'MiniBatchMyKmean', 'MiniBatchMyKmeans++']\n",
    "\n",
    "for j, size in enumerate(samples):\n",
    "    X, y = make_blobs(n_samples=size, n_features=2, centers=3, cluster_std=1, \n",
    "           center_box=(-10.0, 10.0), shuffle=False, random_state=1234)\n",
    "\n",
    "    for i, model in enumerate([clf, clf2, clf3, clf4, clf5]):\n",
    "        t0 = time()\n",
    "        model.fit(X)\n",
    "        info[i][j] = time() - t0\n",
    "\n",
    "for i in range(5):\n",
    "    plt.plot(samples, info[i], label=names[i])\n",
    "\n",
    "plt.xlabel('Count of samples')\n",
    "plt.ylabel('Time')\n",
    "plt.legend()"
   ]
  },
  {
   "cell_type": "markdown",
   "metadata": {},
   "source": [
    "# Применение K-means на реальных данных"
   ]
  },
  {
   "cell_type": "markdown",
   "metadata": {},
   "source": [
    "Загрузите [данные](https://github.com/brenden17/sklearnlab/blob/master/facebook/snsdata.csv) в которых содержится описание интересов профилей учеников старшей школы США.  (без этого пункта задание не считается выполненным).   \n",
    "ВНИМАНИЕ! Проверка должна быть осуществлена на всех реализациях, иначе реализация не будет зачтена!"
   ]
  },
  {
   "cell_type": "code",
   "execution_count": 67,
   "metadata": {},
   "outputs": [
    {
     "data": {
      "text/html": [
       "<div>\n",
       "<style scoped>\n",
       "    .dataframe tbody tr th:only-of-type {\n",
       "        vertical-align: middle;\n",
       "    }\n",
       "\n",
       "    .dataframe tbody tr th {\n",
       "        vertical-align: top;\n",
       "    }\n",
       "\n",
       "    .dataframe thead th {\n",
       "        text-align: right;\n",
       "    }\n",
       "</style>\n",
       "<table border=\"1\" class=\"dataframe\">\n",
       "  <thead>\n",
       "    <tr style=\"text-align: right;\">\n",
       "      <th></th>\n",
       "      <th>gradyear</th>\n",
       "      <th>gender</th>\n",
       "      <th>age</th>\n",
       "      <th>friends</th>\n",
       "      <th>basketball</th>\n",
       "      <th>football</th>\n",
       "      <th>soccer</th>\n",
       "      <th>softball</th>\n",
       "      <th>volleyball</th>\n",
       "      <th>swimming</th>\n",
       "      <th>...</th>\n",
       "      <th>blonde</th>\n",
       "      <th>mall</th>\n",
       "      <th>shopping</th>\n",
       "      <th>clothes</th>\n",
       "      <th>hollister</th>\n",
       "      <th>abercrombie</th>\n",
       "      <th>die</th>\n",
       "      <th>death</th>\n",
       "      <th>drunk</th>\n",
       "      <th>drugs</th>\n",
       "    </tr>\n",
       "  </thead>\n",
       "  <tbody>\n",
       "    <tr>\n",
       "      <th>0</th>\n",
       "      <td>2006</td>\n",
       "      <td>M</td>\n",
       "      <td>18.982</td>\n",
       "      <td>7</td>\n",
       "      <td>0</td>\n",
       "      <td>0</td>\n",
       "      <td>0</td>\n",
       "      <td>0</td>\n",
       "      <td>0</td>\n",
       "      <td>0</td>\n",
       "      <td>...</td>\n",
       "      <td>0</td>\n",
       "      <td>0</td>\n",
       "      <td>0</td>\n",
       "      <td>0</td>\n",
       "      <td>0</td>\n",
       "      <td>0</td>\n",
       "      <td>0</td>\n",
       "      <td>0</td>\n",
       "      <td>0</td>\n",
       "      <td>0</td>\n",
       "    </tr>\n",
       "    <tr>\n",
       "      <th>1</th>\n",
       "      <td>2006</td>\n",
       "      <td>F</td>\n",
       "      <td>18.801</td>\n",
       "      <td>0</td>\n",
       "      <td>0</td>\n",
       "      <td>1</td>\n",
       "      <td>0</td>\n",
       "      <td>0</td>\n",
       "      <td>0</td>\n",
       "      <td>0</td>\n",
       "      <td>...</td>\n",
       "      <td>0</td>\n",
       "      <td>1</td>\n",
       "      <td>0</td>\n",
       "      <td>0</td>\n",
       "      <td>0</td>\n",
       "      <td>0</td>\n",
       "      <td>0</td>\n",
       "      <td>0</td>\n",
       "      <td>0</td>\n",
       "      <td>0</td>\n",
       "    </tr>\n",
       "    <tr>\n",
       "      <th>2</th>\n",
       "      <td>2006</td>\n",
       "      <td>M</td>\n",
       "      <td>18.335</td>\n",
       "      <td>69</td>\n",
       "      <td>0</td>\n",
       "      <td>1</td>\n",
       "      <td>0</td>\n",
       "      <td>0</td>\n",
       "      <td>0</td>\n",
       "      <td>0</td>\n",
       "      <td>...</td>\n",
       "      <td>0</td>\n",
       "      <td>0</td>\n",
       "      <td>0</td>\n",
       "      <td>0</td>\n",
       "      <td>0</td>\n",
       "      <td>0</td>\n",
       "      <td>0</td>\n",
       "      <td>1</td>\n",
       "      <td>0</td>\n",
       "      <td>0</td>\n",
       "    </tr>\n",
       "    <tr>\n",
       "      <th>3</th>\n",
       "      <td>2006</td>\n",
       "      <td>F</td>\n",
       "      <td>18.875</td>\n",
       "      <td>0</td>\n",
       "      <td>0</td>\n",
       "      <td>0</td>\n",
       "      <td>0</td>\n",
       "      <td>0</td>\n",
       "      <td>0</td>\n",
       "      <td>0</td>\n",
       "      <td>...</td>\n",
       "      <td>0</td>\n",
       "      <td>0</td>\n",
       "      <td>0</td>\n",
       "      <td>0</td>\n",
       "      <td>0</td>\n",
       "      <td>0</td>\n",
       "      <td>0</td>\n",
       "      <td>0</td>\n",
       "      <td>0</td>\n",
       "      <td>0</td>\n",
       "    </tr>\n",
       "    <tr>\n",
       "      <th>4</th>\n",
       "      <td>2006</td>\n",
       "      <td>NaN</td>\n",
       "      <td>18.995</td>\n",
       "      <td>10</td>\n",
       "      <td>0</td>\n",
       "      <td>0</td>\n",
       "      <td>0</td>\n",
       "      <td>0</td>\n",
       "      <td>0</td>\n",
       "      <td>0</td>\n",
       "      <td>...</td>\n",
       "      <td>0</td>\n",
       "      <td>0</td>\n",
       "      <td>2</td>\n",
       "      <td>0</td>\n",
       "      <td>0</td>\n",
       "      <td>0</td>\n",
       "      <td>0</td>\n",
       "      <td>0</td>\n",
       "      <td>1</td>\n",
       "      <td>1</td>\n",
       "    </tr>\n",
       "  </tbody>\n",
       "</table>\n",
       "<p>5 rows × 40 columns</p>\n",
       "</div>"
      ],
      "text/plain": [
       "   gradyear gender     age  friends  basketball  football  soccer  softball  \\\n",
       "0      2006      M  18.982        7           0         0       0         0   \n",
       "1      2006      F  18.801        0           0         1       0         0   \n",
       "2      2006      M  18.335       69           0         1       0         0   \n",
       "3      2006      F  18.875        0           0         0       0         0   \n",
       "4      2006    NaN  18.995       10           0         0       0         0   \n",
       "\n",
       "   volleyball  swimming  ...    blonde  mall  shopping  clothes  hollister  \\\n",
       "0           0         0  ...         0     0         0        0          0   \n",
       "1           0         0  ...         0     1         0        0          0   \n",
       "2           0         0  ...         0     0         0        0          0   \n",
       "3           0         0  ...         0     0         0        0          0   \n",
       "4           0         0  ...         0     0         2        0          0   \n",
       "\n",
       "   abercrombie  die  death  drunk  drugs  \n",
       "0            0    0      0      0      0  \n",
       "1            0    0      0      0      0  \n",
       "2            0    0      1      0      0  \n",
       "3            0    0      0      0      0  \n",
       "4            0    0      0      1      1  \n",
       "\n",
       "[5 rows x 40 columns]"
      ]
     },
     "execution_count": 67,
     "metadata": {},
     "output_type": "execute_result"
    }
   ],
   "source": [
    "df_sns = pd.read_csv('snsdata.csv', sep=',')\n",
    "df_sns.head()"
   ]
  },
  {
   "cell_type": "markdown",
   "metadata": {},
   "source": [
    "Данные устроены так: \n",
    "* Год выпуска\n",
    "* Пол\n",
    "* Возраст\n",
    "* Количество друзей\n",
    "* 36 ключевых слов, которые встречаются в профилe facebook (интересы, сообщества, встречи)"
   ]
  },
  {
   "cell_type": "markdown",
   "metadata": {},
   "source": [
    "* Удалите все признаки кроме 36 ключевых слов.\n",
    "* Нормализуйте данные - из каждого столбца вычтите его среднее значение и поделите на стандартное отклонение.\n",
    "* Используйте метод k-means чтобы выделить 9 кластеров\n",
    "* Попробуйте проинтерпретировать каждый кластер проанализировав полученные центройды (Некоторые кластеры могут быть очень большие и очень маленькие - плохо интерпретируются)   \n",
    "КОММЕНТАРИИ НЕ СТИРАТЬ!"
   ]
  },
  {
   "cell_type": "code",
   "execution_count": 68,
   "metadata": {},
   "outputs": [],
   "source": [
    "df = df_sns.drop(['gradyear', 'gender', 'age', 'friends'], axis='columns')\n",
    "df = (df - df.mean()) / df.std()\n",
    "keys = df.columns"
   ]
  },
  {
   "cell_type": "code",
   "execution_count": 69,
   "metadata": {},
   "outputs": [],
   "source": [
    "def getInfo(clf, N):\n",
    "    unique, counts = np.unique(clf.predict(df), return_counts=True)\n",
    "    \n",
    "    for i in range(9):\n",
    "        print(f'{i + 1} кластер')\n",
    "        print(f'{counts[i]} students')\n",
    "        indices = np.argpartition(-clf.centroids[i], N)[:N]\n",
    "        print(list(keys[indices]))\n",
    "        print()"
   ]
  },
  {
   "cell_type": "code",
   "execution_count": 70,
   "metadata": {},
   "outputs": [
    {
     "name": "stdout",
     "output_type": "stream",
     "text": [
      "1 кластер\n",
      "1690 students\n",
      "['rock', 'baseball', 'sports', 'basketball', 'softball', 'soccer']\n",
      "\n",
      "2 кластер\n",
      "19935 students\n",
      "['swimming', 'blonde', 'soccer', 'sexy', 'tennis', 'bible']\n",
      "\n",
      "3 кластер\n",
      "860 students\n",
      "['shopping', 'marching', 'cute', 'band', 'music', 'clothes']\n",
      "\n",
      "4 кластер\n",
      "1893 students\n",
      "['cute', 'shopping', 'dance', 'hot', 'sexy', 'mall']\n",
      "\n",
      "5 кластер\n",
      "605 students\n",
      "['cute', 'shopping', 'mall', 'dress', 'hair', 'church']\n",
      "\n",
      "6 кластер\n",
      "676 students\n",
      "['hot', 'cheerleading', 'shopping', 'hollister', 'basketball', 'football']\n",
      "\n",
      "7 кластер\n",
      "2248 students\n",
      "['basketball', 'god', 'jesus', 'kissed', 'bible', 'church']\n",
      "\n",
      "8 кластер\n",
      "1194 students\n",
      "['football', 'sports', 'basketball', 'volleyball', 'baseball', 'soccer']\n",
      "\n",
      "9 кластер\n",
      "899 students\n",
      "['abercrombie', 'hair', 'drugs', 'kissed', 'sex', 'hollister']\n",
      "\n"
     ]
    }
   ],
   "source": [
    "## MyKMeans\n",
    "clf = MyKmeans(k=9)\n",
    "clf.fit(df.values)\n",
    "getInfo(clf, 6)"
   ]
  },
  {
   "cell_type": "code",
   "execution_count": 71,
   "metadata": {},
   "outputs": [
    {
     "name": "stdout",
     "output_type": "stream",
     "text": [
      "1 кластер\n",
      "72 students\n",
      "['death', 'die', 'sex', 'hair', 'blonde', 'kissed']\n",
      "\n",
      "2 кластер\n",
      "568 students\n",
      "['hot', 'cute', 'sexy', 'sex', 'drunk', 'hair']\n",
      "\n",
      "3 кластер\n",
      "1353 students\n",
      "['god', 'jesus', 'drugs', 'dance', 'bible', 'hair']\n",
      "\n",
      "4 кластер\n",
      "824 students\n",
      "['church', 'hot', 'bible', 'god', 'music', 'jesus']\n",
      "\n",
      "5 кластер\n",
      "1147 students\n",
      "['hollister', 'kissed', 'shopping', 'abercrombie', 'tennis', 'clothes']\n",
      "\n",
      "6 кластер\n",
      "3226 students\n",
      "['swimming', 'football', 'death', 'marching', 'band', 'baseball']\n",
      "\n",
      "7 кластер\n",
      "543 students\n",
      "['basketball', 'sports', 'soccer', 'football', 'shopping', 'rock']\n",
      "\n",
      "8 кластер\n",
      "2987 students\n",
      "['mall', 'cute', 'rock', 'shopping', 'clothes', 'dress']\n",
      "\n",
      "9 кластер\n",
      "19280 students\n",
      "['tennis', 'bible', 'drunk', 'softball', 'volleyball', 'blonde']\n",
      "\n"
     ]
    }
   ],
   "source": [
    "## MyKMeans++\n",
    "clf = MyKmeans(k=9, init='k-means')\n",
    "clf.fit(df.values)\n",
    "getInfo(clf, 6)"
   ]
  },
  {
   "cell_type": "code",
   "execution_count": 72,
   "metadata": {},
   "outputs": [
    {
     "name": "stdout",
     "output_type": "stream",
     "text": [
      "1 кластер\n",
      "377 students\n",
      "['god', 'sexy', 'drunk', 'blonde', 'bible', 'marching']\n",
      "\n",
      "2 кластер\n",
      "342 students\n",
      "['rock', 'music', 'drugs', 'tennis', 'drunk', 'football']\n",
      "\n",
      "3 кластер\n",
      "1292 students\n",
      "['blonde', 'basketball', 'soccer', 'drugs', 'shopping', 'cute']\n",
      "\n",
      "4 кластер\n",
      "1404 students\n",
      "['cheerleading', 'tennis', 'soccer', 'abercrombie', 'hollister', 'sports']\n",
      "\n",
      "5 кластер\n",
      "20964 students\n",
      "['sex', 'bible', 'dress', 'shopping', 'dance', 'drunk']\n",
      "\n",
      "6 кластер\n",
      "27 students\n",
      "['hair', 'sex', 'drunk', 'die', 'kissed', 'dance']\n",
      "\n",
      "7 кластер\n",
      "1415 students\n",
      "['volleyball', 'basketball', 'dance', 'sports', 'baseball', 'music']\n",
      "\n",
      "8 кластер\n",
      "1983 students\n",
      "['mall', 'dance', 'god', 'jesus', 'rock', 'soccer']\n",
      "\n",
      "9 кластер\n",
      "2196 students\n",
      "['death', 'clothes', 'hair', 'basketball', 'cute', 'shopping']\n",
      "\n"
     ]
    }
   ],
   "source": [
    "## MyKMeans с MiniBatchMyKMeans\n",
    "clf = MiniBatchMyKMeans(k=9, batch_size=100)\n",
    "clf.fit(df.values)\n",
    "getInfo(clf, 6)"
   ]
  },
  {
   "cell_type": "code",
   "execution_count": 73,
   "metadata": {},
   "outputs": [
    {
     "name": "stdout",
     "output_type": "stream",
     "text": [
      "1 кластер\n",
      "385 students\n",
      "['drugs', 'dress', 'clothes', 'tennis', 'baseball', 'sex']\n",
      "\n",
      "2 кластер\n",
      "22683 students\n",
      "['baseball', 'marching', 'soccer', 'band', 'sexy', 'tennis']\n",
      "\n",
      "3 кластер\n",
      "1729 students\n",
      "['death', 'dress', 'hot', 'hair', 'band', 'volleyball']\n",
      "\n",
      "4 кластер\n",
      "141 students\n",
      "['baseball', 'marching', 'blonde', 'bible', 'church', 'tennis']\n",
      "\n",
      "5 кластер\n",
      "1302 students\n",
      "['hot', 'sexy', 'shopping', 'cute', 'dance', 'music']\n",
      "\n",
      "6 кластер\n",
      "576 students\n",
      "['tennis', 'marching', 'mall', 'blonde', 'hair', 'bible']\n",
      "\n",
      "7 кластер\n",
      "368 students\n",
      "['swimming', 'hot', 'football', 'clothes', 'dress', 'music']\n",
      "\n",
      "8 кластер\n",
      "98 students\n",
      "['death', 'rock', 'die', 'sexy', 'sex', 'dress']\n",
      "\n",
      "9 кластер\n",
      "2718 students\n",
      "['shopping', 'hot', 'abercrombie', 'bible', 'cheerleading', 'church']\n",
      "\n"
     ]
    }
   ],
   "source": [
    "## MyKMeans++ с MiniBatchMyKMeans\n",
    "clf = MiniBatchMyKMeans(k=9, init='k-means', batch_size=100)\n",
    "clf.fit(df.values)\n",
    "getInfo(clf, 6)"
   ]
  },
  {
   "cell_type": "code",
   "execution_count": 74,
   "metadata": {},
   "outputs": [],
   "source": [
    "## Вывод\n",
    "#Прогоняя один алгоритм несколько раз мы можем получат различные результаты и выбрать среди них определеныйю\n",
    "#Глобально мы можем разделить алгоритмы на две группы: С батчами и без. У нас есть разница в скорости и в точности.\n",
    "# KMeans++ - более правильный способ раскидывать начальные точки, что понижает шанс создания странных кластеров. "
   ]
  },
  {
   "cell_type": "code",
   "execution_count": null,
   "metadata": {},
   "outputs": [],
   "source": []
  }
 ],
 "metadata": {
  "anaconda-cloud": {},
  "kernelspec": {
   "display_name": "Python 3",
   "language": "python",
   "name": "python3"
  },
  "language_info": {
   "codemirror_mode": {
    "name": "ipython",
    "version": 3
   },
   "file_extension": ".py",
   "mimetype": "text/x-python",
   "name": "python",
   "nbconvert_exporter": "python",
   "pygments_lexer": "ipython3",
   "version": "3.6.5"
  },
  "nav_menu": {},
  "toc": {
   "navigate_menu": true,
   "number_sections": false,
   "sideBar": true,
   "threshold": 6,
   "toc_cell": false,
   "toc_section_display": "block",
   "toc_window_display": true
  }
 },
 "nbformat": 4,
 "nbformat_minor": 2
}
