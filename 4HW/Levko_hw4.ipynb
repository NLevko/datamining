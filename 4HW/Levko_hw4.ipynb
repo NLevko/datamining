{
 "cells": [
  {
   "cell_type": "markdown",
   "metadata": {},
   "source": [
    "# Алгоритмы интеллектуальной обработки больших объемов данных\n",
    "## Домашнее задание №4 - Метод k-средних, предобработка признаков\n"
   ]
  },
  {
   "cell_type": "markdown",
   "metadata": {},
   "source": [
    "###### <hr\\>\n",
    "**Общая информация**\n",
    "\n",
    "**Срок сдачи:** 28 ноября 2018, 06:00 <br\\>\n",
    "**Штраф за опоздание:** -2 балла после 06:00 28 ноября, -4 балла после 06:00 5 декабря, -6 баллов после 06:00 12 декабря, -8 баллов после 19 декабря\n",
    "\n",
    "При отправлении ДЗ указывайте фамилию в названии файла\n",
    "Присылать ДЗ необходимо в виде ссылки на свой github репозиторий в slack @alkhamush\n",
    "\n",
    "Необходимо в slack создать таск в приватный чат:\n",
    "/todo Фамилия Имя ссылка на гитхаб @alkhamush\n",
    "Пример:\n",
    "/todo Ксения Стройкова https://github.com/stroykova/spheremailru/stroykova_hw1.ipynb @alkhamush\n",
    "Дополнительно нужно просто скинуть ссылку в slack в личный чат\n",
    "\n",
    "Используйте данный Ipython Notebook при оформлении домашнего задания."
   ]
  },
  {
   "cell_type": "markdown",
   "metadata": {},
   "source": [
    "# Имплементация K-means\n",
    "\n",
    "Пользуясь наработками выше, имплементируйте метод k-means.  \n",
    "При инициализации необходимо задавать количество кластеров, функцию расстояния между кластерами (для оригинального k-means - евклидово расстояние) и начальное состояние генератора случайных чисел.\n",
    "\n",
    "После обучения, среди атрибутов класса `Kmeans` должны появится\n",
    "* Метки кластеров для объектов\n",
    "* Координаты центройдов кластеров\n",
    "\n",
    "k-means - это алгоритм **кластеризации**, а не классификации, а посему метод `.predict()` в нем фактически не нужен, но он может возвращать метки ближайшего кластера для объектов."
   ]
  },
  {
   "cell_type": "markdown",
   "metadata": {},
   "source": [
    "###### Задание 1 (2 баллов)\n",
    "Имплементируйте метод k-means. Задание считается выполненным, если Ваша реализация работает быстрее реализации из sklearn.\n",
    "\n",
    "Теория для выполнения задания 2 и 3 остаётся на самостоятельное изучение. Теории немного и она совсем простая.\n",
    "\n",
    "###### Задание 2 (2 балла)\n",
    "Имплементируйте класс MiniBatchKMeans, который является классом наследником Kmeans.\n",
    "\n",
    "###### Задание 3 (2 балла)\n",
    "Превратите k-means в k-means++. Для этого нужно реализовать метод в классе Kmeans, который будет инициализировать более \"хорошие\" значения центроидов. Чтобы использовался метод k-means++, в параметр init необходимо передать строковое значение 'k-means' (по умолчанию 'random').\n",
    "\n",
    "###### Задание 4 (2 балла)\n",
    "В пункте \"Проверка корректности метода\" нужно нарисовать графики, которые показывают зависимость времени выполнения алгоритма от количества сэмплов. Графики должны быть  нарисованы для различных комбинаций реализаций алгоритма (k-means, k-means++, k-means с MiniBatchKMeans, k-means++ с MiniBatchKMeans). График достаточно построить на 5-10 точках.\n",
    "\n",
    "###### Задание 5 (2 балла)\n",
    "В пункте \"Применение K-means на реальных данных\" нужно сравнить различные реализации k-means (k-means, k-means++, k-means с MiniBatchKMeans, k-means++ с MiniBatchKMeans). После чего написать вывод, в котором должно быть объяснение того, почему один алгоритм оказался лучше остальных или почему не было выявлено лучшего алгоритма.\n",
    "\n",
    "**Штрафные баллы:**\n",
    "\n",
    "1. Невыполнение PEP8 -1 балл\n",
    "2. Отсутствие фамилии в имени скрипта (скрипт должен называться по аналогии со stroykova_hw4.ipynb) -1 балл\n",
    "3. Все строчки должны быть выполнены. Нужно, чтобы output команды можно было увидеть уже в git'е. В противном случае -1 балл\n",
    "4. При оформлении ДЗ нужно пользоваться данным файлом в качестве шаблона. Не нужно удалять и видоизменять написанный код и текст. В противном случае -1 балл\n",
    "<hr\\>"
   ]
  },
  {
   "cell_type": "code",
   "execution_count": 84,
   "metadata": {},
   "outputs": [],
   "source": [
    "import pandas as pd\n",
    "import numpy as np\n",
    "import matplotlib.pyplot as plt\n",
    "from sklearn.cluster import KMeans\n",
    "from sklearn.metrics.pairwise import euclidean_distances\n",
    "from sklearn import preprocessing\n",
    "from time import time\n",
    "%matplotlib inline\n",
    "\n",
    "plt.style.use('ggplot')\n",
    "plt.rcParams['figure.figsize'] = (12,5)\n",
    "\n",
    "#%load_ext pycodestyle_magic"
   ]
  },
  {
   "cell_type": "code",
   "execution_count": 85,
   "metadata": {},
   "outputs": [],
   "source": [
    "#%%pycodestyle\n",
    "\n",
    "\n",
    "class MyKmeans: \n",
    "    \n",
    "    def __init__(self, k=2, metric='euclidean', max_iter=1000, random_state=None, init='random',\n",
    "                batch_size=None):\n",
    "        \"\"\"\n",
    "        Инициализация метода\n",
    "        :k - количество кластеров\n",
    "        :metric - функция расстояния между объектами\n",
    "        :max_iter - максиальное количество итераций\n",
    "        :random_state - seed для инициализации генератора случайных чисел\n",
    "        \"\"\"\n",
    "        self.init = init\n",
    "        self.k = k\n",
    "        self.random_state = random_state\n",
    "        self.metric = metric\n",
    "        self.max_iter = max_iter\n",
    "        self.batch_size = batch_size        \n",
    "\n",
    "\n",
    "    def fit(self, X, y=None):\n",
    "        \"\"\"\n",
    "        Процедура обучения k-means\n",
    "        \"\"\"\n",
    "        # Инициализация генератора случайных чисел\n",
    "        np.random.seed(self.random_state)\n",
    "        \n",
    "        # Массив с метками кластеров для каждого объекта из X\n",
    "        self.labels = np.empty(X.shape[0])\n",
    "        \n",
    "        # Массив с центройдами кластеров\n",
    "        self.centroids = np.empty((self.k, X.shape[1]))\n",
    "        \n",
    "        ## Your Code Here\n",
    "        # Первый центроид кидаем случайно,\n",
    "        # Следующих считаем вероятности и кидаем в наиболее отдаленые\n",
    "        if self.init == 'random':\n",
    "            self.centroids = X[np.random.choice(X.shape[0], replace=False, size=self.k)]        \n",
    "        \n",
    "        if self.init == 'k-means':\n",
    "            self.centroids = np.empty((self.k, X.shape[1]))\n",
    "            self.centroids[0] = X[np.random.choice(X.shape[0])]\n",
    "\n",
    "        #Используем евклидово расстояние\n",
    "            for i in range(1, self.k):\n",
    "                dist = euclidean_distances(X, self.centroids[:i, :]).min(axis=1)\n",
    "                dist = dist / dist.sum()\n",
    "                self.centroids[i] = X[np.random.choice(X.shape[0],\n",
    "                                                       replace=False,\n",
    "                                                       p=dist)]\n",
    "\n",
    "        centroids = np.empty((self.k, X.shape[1]))\n",
    "        \n",
    "        #Находим новые, более оптимальные местонахождения\n",
    "        # Центройд\n",
    "        for i in range(self.max_iter):\n",
    "            X2 = X\n",
    "            if self.batch_size is not None:\n",
    "                X2 = X[np.random.choice(X.shape[0],\n",
    "                                        replace=False,\n",
    "                                        size=min(self.batch_size, X.shape[0]))]\n",
    "\n",
    "            self.labels = euclidean_distances(X2, self.centroids).argmin(axis=1)\n",
    "\n",
    "            for i in range(self.k):\n",
    "                if np.any(self.labels == i, axis=0):\n",
    "\n",
    "                    centroids[i] = np.mean(X2[self.labels == i],\n",
    "                                           axis=0)\n",
    "                else:\n",
    "                    centroids[i] = X[np.random.choice(X.shape[0])]\n",
    "\n",
    "            if np.all(np.abs(centroids - self.centroids) < 0.05):\n",
    "                break\n",
    "\n",
    "            self.centroids = centroids\n",
    "\n",
    "        self.labels = euclidean_distances(X, self.centroids).argmin(axis=1)\n",
    "\n",
    "        return self\n",
    "\n",
    "    def predict(self, X, y=None):\n",
    "        \"\"\"\n",
    "        Процедура предсказания кластера\n",
    "        \n",
    "        Возвращает метку ближайшего кластера для каждого объекта\n",
    "        \"\"\"\n",
    "        return euclidean_distances(X, self.centroids).argmin(axis=1)\n",
    "\n",
    "class MiniBatchMyKMeans(MyKmeans):\n",
    "    def __init__(self, k=2, metric='euclidean', max_iter=1000,\n",
    "                 random_state=None, init='random', batch_size=100):\n",
    "        super().__init__(k, metric, max_iter, random_state, init, batch_size)\n",
    "        self.batch_size = batch_size"
   ]
  },
  {
   "cell_type": "markdown",
   "metadata": {},
   "source": [
    "### Проверка корректности метода\n",
    "\n",
    "Перед тем как применять алгоритм на реальных данных, нужно испытать его на простых \"игрушечных\" данных.\n",
    "\n",
    "Если алгоритм реализован правильно, то метод должен идеально разбивать на 3 кластера данные ниже. Проверьте это.\n",
    "\n",
    "ВНИМАНИЕ! Проверка должна быть осуществлена на всех реализациях, иначе реализация не будет зачтена!"
   ]
  },
  {
   "cell_type": "code",
   "execution_count": 86,
   "metadata": {},
   "outputs": [],
   "source": [
    "from sklearn.datasets import make_blobs"
   ]
  },
  {
   "cell_type": "code",
   "execution_count": 87,
   "metadata": {},
   "outputs": [],
   "source": [
    "X, y = make_blobs(n_samples=100, n_features=2, centers=3, cluster_std=1, \n",
    "           center_box=(-10.0, 10.0), shuffle=False, random_state=1234)"
   ]
  },
  {
   "cell_type": "code",
   "execution_count": 88,
   "metadata": {},
   "outputs": [
    {
     "data": {
      "text/plain": [
       "<matplotlib.collections.PathCollection at 0x223a25260b8>"
      ]
     },
     "execution_count": 88,
     "metadata": {},
     "output_type": "execute_result"
    },
    {
     "data": {
      "image/png": "[encoded data removed]",
      "text/plain": [
       "<Figure size 864x360 with 1 Axes>"
      ]
     },
     "metadata": {},
     "output_type": "display_data"
    }
   ],
   "source": [
    "plt.scatter(X[:,0], X[:, 1], c=y)"
   ]
  },
  {
   "cell_type": "markdown",
   "metadata": {},
   "source": [
    "Проверьте Вашу имплементацию на простых данных (без этого пункта ДЗ не считается выполненным).   \n",
    "КОММЕНТАРИИ НЕ СТИРАТЬ!"
   ]
  },
  {
   "cell_type": "code",
   "execution_count": 89,
   "metadata": {},
   "outputs": [
    {
     "data": {
      "text/plain": [
       "<matplotlib.collections.PathCollection at 0x223a2596a90>"
      ]
     },
     "execution_count": 89,
     "metadata": {},
     "output_type": "execute_result"
    },
    {
     "data": {
      "image/png": "[encoded data removed]",
      "text/plain": [
       "<Figure size 864x360 with 1 Axes>"
      ]
     },
     "metadata": {},
     "output_type": "display_data"
    }
   ],
   "source": [
    "## Работоспособность MyKmeans\n",
    "clf = MyKmeans(k=3)\n",
    "clf.fit(X)\n",
    "plt.scatter(X[:, 0], X[:, 1], c=clf.predict(X))\n",
    "plt.scatter(clf.centroids[:, 0], clf.centroids[:, 1])"
   ]
  },
  {
   "cell_type": "code",
   "execution_count": 90,
   "metadata": {},
   "outputs": [
    {
     "data": {
      "text/plain": [
       "<matplotlib.collections.PathCollection at 0x223a2607198>"
      ]
     },
     "execution_count": 90,
     "metadata": {},
     "output_type": "execute_result"
    },
    {
     "data": {
      "image/png": "[encoded data removed]",
      "text/plain": [
       "<Figure size 864x360 with 1 Axes>"
      ]
     },
     "metadata": {},
     "output_type": "display_data"
    }
   ],
   "source": [
    "## Работоспособность MyKmeans++\n",
    "clf = MyKmeans(k=3, init='k-means')\n",
    "clf.fit(X)\n",
    "plt.scatter(X[:, 0], X[:, 1], c=clf.predict(X))\n",
    "plt.scatter(clf.centroids[:, 0], clf.centroids[:, 1])"
   ]
  },
  {
   "cell_type": "code",
   "execution_count": 91,
   "metadata": {},
   "outputs": [
    {
     "data": {
      "text/plain": [
       "<matplotlib.collections.PathCollection at 0x223a28309e8>"
      ]
     },
     "execution_count": 91,
     "metadata": {},
     "output_type": "execute_result"
    },
    {
     "data": {
      "image/png": "[encoded data removed]",
      "text/plain": [
       "<Figure size 864x360 with 1 Axes>"
      ]
     },
     "metadata": {},
     "output_type": "display_data"
    }
   ],
   "source": [
    "## Работоспособность MyKmeans с MiniBatchMyKmeans\n",
    "clf = MiniBatchMyKMeans(k=3, batch_size=10)\n",
    "clf.fit(X)\n",
    "plt.scatter(X[:, 0], X[:, 1], c=clf.predict(X))\n",
    "plt.scatter(clf.centroids[:, 0], clf.centroids[:, 1])"
   ]
  },
  {
   "cell_type": "code",
   "execution_count": 92,
   "metadata": {},
   "outputs": [
    {
     "data": {
      "text/plain": [
       "<matplotlib.collections.PathCollection at 0x223a26e0358>"
      ]
     },
     "execution_count": 92,
     "metadata": {},
     "output_type": "execute_result"
    },
    {
     "data": {
      "image/png": "[encoded data removed]",
      "text/plain": [
       "<Figure size 864x360 with 1 Axes>"
      ]
     },
     "metadata": {},
     "output_type": "display_data"
    }
   ],
   "source": [
    "## Работоспособность MyKmeans++ с MiniBatchMyKmeans\n",
    "clf = MiniBatchMyKMeans(k=3, init='k-means', batch_size=10)\n",
    "clf.fit(X)\n",
    "plt.scatter(X[:, 0], X[:, 1], c=clf.predict(X))\n",
    "plt.scatter(clf.centroids[:, 0], clf.centroids[:, 1])"
   ]
  },
  {
   "cell_type": "code",
   "execution_count": 93,
   "metadata": {},
   "outputs": [
    {
     "name": "stdout",
     "output_type": "stream",
     "text": [
      "Wall time: 936 ms\n"
     ]
    },
    {
     "data": {
      "text/plain": [
       "KMeans(algorithm='auto', copy_x=True, init='k-means++', max_iter=1000,\n",
       "    n_clusters=3, n_init=10, n_jobs=1, precompute_distances='auto',\n",
       "    random_state=None, tol=0, verbose=0)"
      ]
     },
     "execution_count": 93,
     "metadata": {},
     "output_type": "execute_result"
    }
   ],
   "source": [
    "## Время выполнения алгоритма Kmeans из sklearn\n",
    "clf = KMeans(n_clusters=3, max_iter=1000, tol=0)\n",
    "%time clf.fit(X)"
   ]
  },
  {
   "cell_type": "code",
   "execution_count": 94,
   "metadata": {},
   "outputs": [
    {
     "name": "stdout",
     "output_type": "stream",
     "text": [
      "Wall time: 998 µs\n"
     ]
    },
    {
     "data": {
      "text/plain": [
       "<__main__.MyKmeans at 0x223a285fcf8>"
      ]
     },
     "execution_count": 94,
     "metadata": {},
     "output_type": "execute_result"
    }
   ],
   "source": [
    "## Время выполнения алгоритма MyKmeans\n",
    "my_clf = MyKmeans(k=3, init='random')\n",
    "%time my_clf.fit(X)"
   ]
  },
  {
   "cell_type": "code",
   "execution_count": 95,
   "metadata": {},
   "outputs": [
    {
     "name": "stdout",
     "output_type": "stream",
     "text": [
      "Wall time: 997 µs\n"
     ]
    },
    {
     "data": {
      "text/plain": [
       "<__main__.MyKmeans at 0x223a285fda0>"
      ]
     },
     "execution_count": 95,
     "metadata": {},
     "output_type": "execute_result"
    }
   ],
   "source": [
    "## Время выполнения алгоритма MyKmeans++\n",
    "my_clf = MyKmeans(k=3, init='k-means')\n",
    "%time my_clf.fit(X)"
   ]
  },
  {
   "cell_type": "code",
   "execution_count": 96,
   "metadata": {},
   "outputs": [
    {
     "name": "stdout",
     "output_type": "stream",
     "text": [
      "Wall time: 997 µs\n"
     ]
    },
    {
     "data": {
      "text/plain": [
       "<__main__.MiniBatchMyKMeans at 0x223a283f0f0>"
      ]
     },
     "execution_count": 96,
     "metadata": {},
     "output_type": "execute_result"
    }
   ],
   "source": [
    "## Время выполнения алгоритма MyKmeans с MiniBatchMyKmeans\n",
    "my_clf = MiniBatchMyKMeans(k=3, init='random')\n",
    "%time my_clf.fit(X)"
   ]
  },
  {
   "cell_type": "code",
   "execution_count": 97,
   "metadata": {},
   "outputs": [
    {
     "name": "stdout",
     "output_type": "stream",
     "text": [
      "Wall time: 2 ms\n"
     ]
    },
    {
     "data": {
      "text/plain": [
       "<__main__.MiniBatchMyKMeans at 0x223a25b4fd0>"
      ]
     },
     "execution_count": 97,
     "metadata": {},
     "output_type": "execute_result"
    }
   ],
   "source": [
    "## Время выполнения алгоритма  MyKmeans++ с MiniBatchMyKmeans\n",
    "my_clf = MiniBatchMyKMeans(k=3, init='k-means')\n",
    "%time my_clf.fit(X)"
   ]
  },
  {
   "cell_type": "code",
   "execution_count": 98,
   "metadata": {},
   "outputs": [],
   "source": [
    "# Задание 4"
   ]
  },
  {
   "cell_type": "code",
   "execution_count": 120,
   "metadata": {},
   "outputs": [
    {
     "data": {
      "text/plain": [
       "<matplotlib.legend.Legend at 0x223a3c40e80>"
      ]
     },
     "execution_count": 120,
     "metadata": {},
     "output_type": "execute_result"
    },
    {
     "data": {
      "image/png": "[encoded data removed]",
      "text/plain": [
       "<Figure size 864x360 with 1 Axes>"
      ]
     },
     "metadata": {},
     "output_type": "display_data"
    }
   ],
   "source": [
    "clf = KMeans(n_clusters=3, init='random', max_iter=1000, n_init=1)\n",
    "clf2 = MyKmeans(k=3, init='random', max_iter=1000)\n",
    "clf3 = MyKmeans(k=3, init='k-means', max_iter=1000)\n",
    "clf4 = MiniBatchMyKMeans(k=3, batch_size=10)\n",
    "clf5 = MiniBatchMyKMeans(k=3, init='k-means', batch_size=10)\n",
    "samples = np.linspace(100, 80000, 10, dtype=int)\n",
    "info = np.empty((5, samples.shape[0]))\n",
    "names = ['sklearn.KMeans', 'MyKmeans', 'MyKmeans++', 'MiniBatchMyKmean', 'MiniBatchMyKmeans++']\n",
    "\n",
    "for j, size in enumerate(samples):\n",
    "    X, y = make_blobs(n_samples=size, n_features=2, centers=3, cluster_std=1, \n",
    "           center_box=(-10.0, 10.0), shuffle=False, random_state=1234)\n",
    "\n",
    "    for i, model in enumerate([clf, clf2, clf3, clf4, clf5]):\n",
    "        t0 = time()\n",
    "        model.fit(X)\n",
    "        info[i][j] = time() - t0\n",
    "\n",
    "for i in range(5):\n",
    "    plt.plot(samples, info[i], label=names[i])\n",
    "\n",
    "plt.xlabel('Count of samples')\n",
    "plt.ylabel('Time')\n",
    "plt.legend()"
   ]
  },
  {
   "cell_type": "markdown",
   "metadata": {},
   "source": [
    "# Применение K-means на реальных данных"
   ]
  },
  {
   "cell_type": "markdown",
   "metadata": {},
   "source": [
    "Загрузите [данные](https://github.com/brenden17/sklearnlab/blob/master/facebook/snsdata.csv) в которых содержится описание интересов профилей учеников старшей школы США.  (без этого пункта задание не считается выполненным).   \n",
    "ВНИМАНИЕ! Проверка должна быть осуществлена на всех реализациях, иначе реализация не будет зачтена!"
   ]
  },
  {
   "cell_type": "code",
   "execution_count": 125,
   "metadata": {},
   "outputs": [
    {
     "data": {
      "text/html": [
       "<div>\n",
       "<style scoped>\n",
       "    .dataframe tbody tr th:only-of-type {\n",
       "        vertical-align: middle;\n",
       "    }\n",
       "\n",
       "    .dataframe tbody tr th {\n",
       "        vertical-align: top;\n",
       "    }\n",
       "\n",
       "    .dataframe thead th {\n",
       "        text-align: right;\n",
       "    }\n",
       "</style>\n",
       "<table border=\"1\" class=\"dataframe\">\n",
       "  <thead>\n",
       "    <tr style=\"text-align: right;\">\n",
       "      <th></th>\n",
       "      <th>gradyear</th>\n",
       "      <th>gender</th>\n",
       "      <th>age</th>\n",
       "      <th>friends</th>\n",
       "      <th>basketball</th>\n",
       "      <th>football</th>\n",
       "      <th>soccer</th>\n",
       "      <th>softball</th>\n",
       "      <th>volleyball</th>\n",
       "      <th>swimming</th>\n",
       "      <th>...</th>\n",
       "      <th>blonde</th>\n",
       "      <th>mall</th>\n",
       "      <th>shopping</th>\n",
       "      <th>clothes</th>\n",
       "      <th>hollister</th>\n",
       "      <th>abercrombie</th>\n",
       "      <th>die</th>\n",
       "      <th>death</th>\n",
       "      <th>drunk</th>\n",
       "      <th>drugs</th>\n",
       "    </tr>\n",
       "  </thead>\n",
       "  <tbody>\n",
       "    <tr>\n",
       "      <th>0</th>\n",
       "      <td>2006</td>\n",
       "      <td>M</td>\n",
       "      <td>18.982</td>\n",
       "      <td>7</td>\n",
       "      <td>0</td>\n",
       "      <td>0</td>\n",
       "      <td>0</td>\n",
       "      <td>0</td>\n",
       "      <td>0</td>\n",
       "      <td>0</td>\n",
       "      <td>...</td>\n",
       "      <td>0</td>\n",
       "      <td>0</td>\n",
       "      <td>0</td>\n",
       "      <td>0</td>\n",
       "      <td>0</td>\n",
       "      <td>0</td>\n",
       "      <td>0</td>\n",
       "      <td>0</td>\n",
       "      <td>0</td>\n",
       "      <td>0</td>\n",
       "    </tr>\n",
       "    <tr>\n",
       "      <th>1</th>\n",
       "      <td>2006</td>\n",
       "      <td>F</td>\n",
       "      <td>18.801</td>\n",
       "      <td>0</td>\n",
       "      <td>0</td>\n",
       "      <td>1</td>\n",
       "      <td>0</td>\n",
       "      <td>0</td>\n",
       "      <td>0</td>\n",
       "      <td>0</td>\n",
       "      <td>...</td>\n",
       "      <td>0</td>\n",
       "      <td>1</td>\n",
       "      <td>0</td>\n",
       "      <td>0</td>\n",
       "      <td>0</td>\n",
       "      <td>0</td>\n",
       "      <td>0</td>\n",
       "      <td>0</td>\n",
       "      <td>0</td>\n",
       "      <td>0</td>\n",
       "    </tr>\n",
       "    <tr>\n",
       "      <th>2</th>\n",
       "      <td>2006</td>\n",
       "      <td>M</td>\n",
       "      <td>18.335</td>\n",
       "      <td>69</td>\n",
       "      <td>0</td>\n",
       "      <td>1</td>\n",
       "      <td>0</td>\n",
       "      <td>0</td>\n",
       "      <td>0</td>\n",
       "      <td>0</td>\n",
       "      <td>...</td>\n",
       "      <td>0</td>\n",
       "      <td>0</td>\n",
       "      <td>0</td>\n",
       "      <td>0</td>\n",
       "      <td>0</td>\n",
       "      <td>0</td>\n",
       "      <td>0</td>\n",
       "      <td>1</td>\n",
       "      <td>0</td>\n",
       "      <td>0</td>\n",
       "    </tr>\n",
       "    <tr>\n",
       "      <th>3</th>\n",
       "      <td>2006</td>\n",
       "      <td>F</td>\n",
       "      <td>18.875</td>\n",
       "      <td>0</td>\n",
       "      <td>0</td>\n",
       "      <td>0</td>\n",
       "      <td>0</td>\n",
       "      <td>0</td>\n",
       "      <td>0</td>\n",
       "      <td>0</td>\n",
       "      <td>...</td>\n",
       "      <td>0</td>\n",
       "      <td>0</td>\n",
       "      <td>0</td>\n",
       "      <td>0</td>\n",
       "      <td>0</td>\n",
       "      <td>0</td>\n",
       "      <td>0</td>\n",
       "      <td>0</td>\n",
       "      <td>0</td>\n",
       "      <td>0</td>\n",
       "    </tr>\n",
       "    <tr>\n",
       "      <th>4</th>\n",
       "      <td>2006</td>\n",
       "      <td>NaN</td>\n",
       "      <td>18.995</td>\n",
       "      <td>10</td>\n",
       "      <td>0</td>\n",
       "      <td>0</td>\n",
       "      <td>0</td>\n",
       "      <td>0</td>\n",
       "      <td>0</td>\n",
       "      <td>0</td>\n",
       "      <td>...</td>\n",
       "      <td>0</td>\n",
       "      <td>0</td>\n",
       "      <td>2</td>\n",
       "      <td>0</td>\n",
       "      <td>0</td>\n",
       "      <td>0</td>\n",
       "      <td>0</td>\n",
       "      <td>0</td>\n",
       "      <td>1</td>\n",
       "      <td>1</td>\n",
       "    </tr>\n",
       "  </tbody>\n",
       "</table>\n",
       "<p>5 rows × 40 columns</p>\n",
       "</div>"
      ],
      "text/plain": [
       "   gradyear gender     age  friends  basketball  football  soccer  softball  \\\n",
       "0      2006      M  18.982        7           0         0       0         0   \n",
       "1      2006      F  18.801        0           0         1       0         0   \n",
       "2      2006      M  18.335       69           0         1       0         0   \n",
       "3      2006      F  18.875        0           0         0       0         0   \n",
       "4      2006    NaN  18.995       10           0         0       0         0   \n",
       "\n",
       "   volleyball  swimming  ...    blonde  mall  shopping  clothes  hollister  \\\n",
       "0           0         0  ...         0     0         0        0          0   \n",
       "1           0         0  ...         0     1         0        0          0   \n",
       "2           0         0  ...         0     0         0        0          0   \n",
       "3           0         0  ...         0     0         0        0          0   \n",
       "4           0         0  ...         0     0         2        0          0   \n",
       "\n",
       "   abercrombie  die  death  drunk  drugs  \n",
       "0            0    0      0      0      0  \n",
       "1            0    0      0      0      0  \n",
       "2            0    0      1      0      0  \n",
       "3            0    0      0      0      0  \n",
       "4            0    0      0      1      1  \n",
       "\n",
       "[5 rows x 40 columns]"
      ]
     },
     "execution_count": 125,
     "metadata": {},
     "output_type": "execute_result"
    }
   ],
   "source": [
    "df_sns = pd.read_csv('snsdata.csv', sep=',')\n",
    "df_sns.head()"
   ]
  },
  {
   "cell_type": "markdown",
   "metadata": {},
   "source": [
    "Данные устроены так: \n",
    "* Год выпуска\n",
    "* Пол\n",
    "* Возраст\n",
    "* Количество друзей\n",
    "* 36 ключевых слов, которые встречаются в профилe facebook (интересы, сообщества, встречи)"
   ]
  },
  {
   "cell_type": "markdown",
   "metadata": {},
   "source": [
    "* Удалите все признаки кроме 36 ключевых слов.\n",
    "* Нормализуйте данные - из каждого столбца вычтите его среднее значение и поделите на стандартное отклонение.\n",
    "* Используйте метод k-means чтобы выделить 9 кластеров\n",
    "* Попробуйте проинтерпретировать каждый кластер проанализировав полученные центройды (Некоторые кластеры могут быть очень большие и очень маленькие - плохо интерпретируются)   \n",
    "КОММЕНТАРИИ НЕ СТИРАТЬ!"
   ]
  },
  {
   "cell_type": "code",
   "execution_count": 131,
   "metadata": {},
   "outputs": [],
   "source": [
    "df = df_sns.drop(['gradyear', 'gender', 'age', 'friends'], axis='columns')\n",
    "df = (df - df.mean()) / df.std()\n",
    "keys = df.columns"
   ]
  },
  {
   "cell_type": "code",
   "execution_count": 134,
   "metadata": {},
   "outputs": [],
   "source": [
    "def getInfo(clf, N):\n",
    "    unique, counts = np.unique(clf.predict(df), return_counts=True)\n",
    "    \n",
    "    for i in range(9):\n",
    "        print(f'{i + 1} кластер')\n",
    "        print(f'{counts[i]} students')\n",
    "        indices = np.argpartition(-clf.centroids[i], N)[:N]\n",
    "        print(list(keys[indices]))\n",
    "        print()"
   ]
  },
  {
   "cell_type": "code",
   "execution_count": 143,
   "metadata": {},
   "outputs": [
    {
     "name": "stdout",
     "output_type": "stream",
     "text": [
      "1 кластер\n",
      "2085 students\n",
      "['mall', 'clothes', 'shopping', 'cute', 'church', 'basketball']\n",
      "\n",
      "2 кластер\n",
      "1126 students\n",
      "['jesus', 'death', 'soccer', 'sports', 'god', 'die']\n",
      "\n",
      "3 кластер\n",
      "504 students\n",
      "['sex', 'drugs', 'drunk', 'hair', 'kissed', 'die']\n",
      "\n",
      "4 кластер\n",
      "1699 students\n",
      "['swimming', 'hot', 'shopping', 'dress', 'football', 'god']\n",
      "\n",
      "5 кластер\n",
      "1066 students\n",
      "['basketball', 'softball', 'sports', 'football', 'volleyball', 'baseball']\n",
      "\n",
      "6 кластер\n",
      "15721 students\n",
      "['baseball', 'blonde', 'bible', 'tennis', 'cute', 'sexy']\n",
      "\n",
      "7 кластер\n",
      "6513 students\n",
      "['marching', 'band', 'music', 'rock', 'god', 'dance']\n",
      "\n",
      "8 кластер\n",
      "622 students\n",
      "['hair', 'kissed', 'music', 'die', 'rock', 'drugs']\n",
      "\n",
      "9 кластер\n",
      "664 students\n",
      "['hollister', 'hair', 'shopping', 'cute', 'abercrombie', 'clothes']\n",
      "\n"
     ]
    }
   ],
   "source": [
    "## MyKMeans\n",
    "clf = MyKmeans(k=9)\n",
    "clf.fit(df.values)\n",
    "getInfo(clf, 6)"
   ]
  },
  {
   "cell_type": "code",
   "execution_count": 147,
   "metadata": {},
   "outputs": [
    {
     "name": "stdout",
     "output_type": "stream",
     "text": [
      "1 кластер\n",
      "22630 students\n",
      "['tennis', 'marching', 'blonde', 'band', 'soccer', 'sexy']\n",
      "\n",
      "2 кластер\n",
      "464 students\n",
      "['basketball', 'church', 'drunk', 'bible', 'god', 'jesus']\n",
      "\n",
      "3 кластер\n",
      "120 students\n",
      "['jesus', 'bible', 'god', 'death', 'die', 'church']\n",
      "\n",
      "4 кластер\n",
      "3431 students\n",
      "['hair', 'sports', 'drugs', 'softball', 'kissed', 'music']\n",
      "\n",
      "5 кластер\n",
      "133 students\n",
      "['hollister', 'shopping', 'cute', 'abercrombie', 'clothes', 'hair']\n",
      "\n",
      "6 кластер\n",
      "1119 students\n",
      "['cheerleading', 'church', 'shopping', 'baseball', 'cute', 'football']\n",
      "\n",
      "7 кластер\n",
      "1079 students\n",
      "['clothes', 'shopping', 'mall', 'hollister', 'abercrombie', 'football']\n",
      "\n",
      "8 кластер\n",
      "322 students\n",
      "['hair', 'kissed', 'sex', 'rock', 'drugs', 'die']\n",
      "\n",
      "9 кластер\n",
      "702 students\n",
      "['swimming', 'shopping', 'clothes', 'basketball', 'volleyball', 'mall']\n",
      "\n"
     ]
    }
   ],
   "source": [
    "## MyKMeans++\n",
    "clf = MyKmeans(k=9, init='k-means')\n",
    "clf.fit(df.values)\n",
    "getInfo(clf, 6)"
   ]
  },
  {
   "cell_type": "code",
   "execution_count": 138,
   "metadata": {},
   "outputs": [
    {
     "name": "stdout",
     "output_type": "stream",
     "text": [
      "1 кластер\n",
      "1449 students\n",
      "['death', 'jesus', 'god', 'kissed', 'clothes', 'hair']\n",
      "\n",
      "2 кластер\n",
      "419 students\n",
      "['tennis', 'marching', 'blonde', 'bible', 'music', 'band']\n",
      "\n",
      "3 кластер\n",
      "11064 students\n",
      "['volleyball', 'drugs', 'die', 'softball', 'church', 'sex']\n",
      "\n",
      "4 кластер\n",
      "177 students\n",
      "['drugs', 'music', 'clothes', 'kissed', 'swimming', 'mall']\n",
      "\n",
      "5 кластер\n",
      "1323 students\n",
      "['rock', 'music', 'dance', 'dress', 'cute', 'clothes']\n",
      "\n",
      "6 кластер\n",
      "936 students\n",
      "['hot', 'sexy', 'shopping', 'hair', 'music', 'band']\n",
      "\n",
      "7 кластер\n",
      "13699 students\n",
      "['band', 'bible', 'blonde', 'marching', 'tennis', 'sex']\n",
      "\n",
      "8 кластер\n",
      "381 students\n",
      "['cheerleading', 'tennis', 'mall', 'drunk', 'abercrombie', 'basketball']\n",
      "\n",
      "9 кластер\n",
      "552 students\n",
      "['hair', 'sex', 'die', 'clothes', 'kissed', 'volleyball']\n",
      "\n"
     ]
    }
   ],
   "source": [
    "## MyKMeans с MiniBatchMyKMeans\n",
    "clf = MiniBatchMyKMeans(k=9, batch_size=100)\n",
    "clf.fit(df.values)\n",
    "getInfo(clf, 6)"
   ]
  },
  {
   "cell_type": "code",
   "execution_count": 139,
   "metadata": {},
   "outputs": [
    {
     "name": "stdout",
     "output_type": "stream",
     "text": [
      "1 кластер\n",
      "7472 students\n",
      "['marching', 'band', 'sports', 'hair', 'die', 'music']\n",
      "\n",
      "2 кластер\n",
      "123 students\n",
      "['basketball', 'football', 'shopping', 'soccer', 'sports', 'music']\n",
      "\n",
      "3 кластер\n",
      "568 students\n",
      "['hair', 'jesus', 'shopping', 'mall', 'cheerleading', 'blonde']\n",
      "\n",
      "4 кластер\n",
      "534 students\n",
      "['baseball', 'cheerleading', 'abercrombie', 'hollister', 'clothes', 'rock']\n",
      "\n",
      "5 кластер\n",
      "2472 students\n",
      "['football', 'volleyball', 'soccer', 'swimming', 'basketball', 'hot']\n",
      "\n",
      "6 кластер\n",
      "15598 students\n",
      "['bible', 'dress', 'blonde', 'death', 'cheerleading', 'swimming']\n",
      "\n",
      "7 кластер\n",
      "1 students\n",
      "['blonde', 'sex', 'drunk', 'death', 'hair', 'die']\n",
      "\n",
      "8 кластер\n",
      "62 students\n",
      "['tennis', 'sexy', 'rock', 'football', 'baseball', 'music']\n",
      "\n",
      "9 кластер\n",
      "3170 students\n",
      "['hot', 'softball', 'kissed', 'shopping', 'basketball', 'bible']\n",
      "\n"
     ]
    }
   ],
   "source": [
    "## MyKMeans++ с MiniBatchMyKMeans\n",
    "clf = MiniBatchMyKMeans(k=9, init='k-means', batch_size=100)\n",
    "clf.fit(df.values)\n",
    "getInfo(clf, 6)"
   ]
  },
  {
   "cell_type": "code",
   "execution_count": 151,
   "metadata": {},
   "outputs": [],
   "source": [
    "## Вывод\n",
    "#Прогоняя один алгоритм несколько раз мы можем получат различные результаты и выбрать среди них определеныйю\n",
    "#Глобально мы можем разделить алгоритмы на две группы: С батчами и без. У нас есть разница в скорости и в точности.\n",
    "# KMeans++ - более правильный способ раскидывать начальные точки, что понижает шанс создания странных кластеров. "
   ]
  }
 ],
 "metadata": {
  "anaconda-cloud": {},
  "kernelspec": {
   "display_name": "Python 3",
   "language": "python",
   "name": "python3"
  },
  "language_info": {
   "codemirror_mode": {
    "name": "ipython",
    "version": 3
   },
   "file_extension": ".py",
   "mimetype": "text/x-python",
   "name": "python",
   "nbconvert_exporter": "python",
   "pygments_lexer": "ipython3",
   "version": "3.6.5"
  },
  "nav_menu": {},
  "toc": {
   "navigate_menu": true,
   "number_sections": false,
   "sideBar": true,
   "threshold": 6,
   "toc_cell": false,
   "toc_section_display": "block",
   "toc_window_display": true
  }
 },
 "nbformat": 4,
 "nbformat_minor": 2
}
